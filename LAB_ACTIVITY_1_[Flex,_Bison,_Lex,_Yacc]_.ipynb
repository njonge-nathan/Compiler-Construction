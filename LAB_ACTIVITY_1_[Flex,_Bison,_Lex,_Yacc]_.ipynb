{
  "nbformat": 4,
  "nbformat_minor": 0,
  "metadata": {
    "colab": {
      "provenance": [],
      "toc_visible": true,
      "authorship_tag": "ABX9TyO1TcoOJuhHAMie4SlvTeb/",
      "include_colab_link": true
    },
    "kernelspec": {
      "name": "python3",
      "display_name": "Python 3"
    },
    "language_info": {
      "name": "python"
    }
  },
  "cells": [
    {
      "cell_type": "markdown",
      "metadata": {
        "id": "view-in-github",
        "colab_type": "text"
      },
      "source": [
        "<a href=\"https://colab.research.google.com/github/njonge-nathan/Compiler-Construction/blob/main/LAB_ACTIVITY_1_%5BFlex%2C_Bison%2C_Lex%2C_Yacc%5D_.ipynb\" target=\"_parent\"><img src=\"https://colab.research.google.com/assets/colab-badge.svg\" alt=\"Open In Colab\"/></a>"
      ]
    },
    {
      "cell_type": "markdown",
      "source": [
        "# Group Members\n",
        "\n",
        "094230 - Nathan Njonge ICS4A"
      ],
      "metadata": {
        "id": "Bw_tj0-vNnxP"
      }
    },
    {
      "cell_type": "markdown",
      "source": [
        "# Lab Activity 1"
      ],
      "metadata": {
        "id": "yre3gL3JNg__"
      }
    },
    {
      "cell_type": "markdown",
      "source": [
        "Give brief descriptions of the following tools:\n",
        "\n",
        "Flex, Bison, Lex, Yacc\n",
        "\n",
        "The description should have: 3-5 lines definition, diagram and code snippet"
      ],
      "metadata": {
        "id": "bBoL89qyNYna"
      }
    },
    {
      "cell_type": "markdown",
      "source": [
        "# Flex"
      ],
      "metadata": {
        "id": "On6kAfpKs8Aq"
      }
    },
    {
      "cell_type": "markdown",
      "source": [
        "## Definition\n",
        "* Flex is an acronym that stands for \"fast lexical analyzer generator\".It is a tool for generating scanners: programs which recognize lexical patterns in text.\n",
        "* flex reads the given input files (or its standard input if no file names are given) for a description of the scanner to generate.The description is in the form of pairs of regular expressions and C code, called rules.\n",
        "* flex generates as output a C source file, `lex.yy.c', which defines a routine yylex. Compile and link this file with the `-lfl' library to produce an executable. When the executable runs, it analyzes its input for occurrences of the regular expressions. Whenever it finds one, it executes the corresponding C code."
      ],
      "metadata": {
        "id": "Va1MWomRlviu"
      }
    },
    {
      "cell_type": "markdown",
      "source": [
        "## Diagram\n",
        "\n",
        "The image describes how a FLEX is used\n",
        "\n",
        "\n",
        "![how_flex_is_used.jpeg](data:image/jpeg;base64,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)"
      ],
      "metadata": {
        "id": "JzlDHiT9rBNU"
      }
    },
    {
      "cell_type": "markdown",
      "source": [
        "* Step 1: An input file describes the lexical analyzer to be generated named lex.l is written in lex language. The lex compiler transforms lex.l to C program, in a file that is always named lex.yy.c. \n",
        "* Step 2: The C compiler compile lex.yy.c file into an executable file called a.out. \n",
        "* Step 3: The output file a.out take a stream of input characters and produce a stream of tokens."
      ],
      "metadata": {
        "id": "pSM_tv8UrsdF"
      }
    },
    {
      "cell_type": "markdown",
      "source": [
        "## Code snippet"
      ],
      "metadata": {
        "id": "SVjuFL1MtR0s"
      }
    },
    {
      "cell_type": "code",
      "execution_count": null,
      "metadata": {
        "id": "EYvzKMPSm73X"
      },
      "outputs": [],
      "source": [
        "/*** Definition Section has one variable\n",
        "which can be accessed inside yylex()\n",
        "and main() ***/\n",
        "%{\n",
        "int count = 0;\n",
        "%}\n",
        "\n",
        "/*** Rule Section has three rules, first rule\n",
        "matches with capital letters, second rule\n",
        "matches with any character except newline and\n",
        "third rule does not take input after the enter***/\n",
        "%%\n",
        "[A-Z] {printf(\"%s capital letter\\n\", yytext);\n",
        "\tcount++;}\n",
        ".\t {printf(\"%s not a capital letter\\n\", yytext);}\n",
        "\\n {return 0;}\n",
        "%%\n",
        "\n",
        "/*** Code Section prints the number of\n",
        "capital letter present in the given input***/\n",
        "int yywrap(){}\n",
        "int main(){\n",
        "\n",
        "// Explanation:\n",
        "// yywrap() - wraps the above rule section\n",
        "/* yyin - takes the file pointer\n",
        "\t\twhich contains the input*/\n",
        "/* yylex() - this is the main flex function\n",
        "\t\twhich runs the Rule Section*/\n",
        "// yytext is the text in the buffer\n",
        "\n",
        "// Uncomment the lines below\n",
        "// to take input from file\n",
        "// FILE *fp;\n",
        "// char filename[50];\n",
        "// printf(\"Enter the filename: \\n\");\n",
        "// scanf(\"%s\",filename);\n",
        "// fp = fopen(filename,\"r\");\n",
        "// yyin = fp;\n",
        "\n",
        "yylex();\n",
        "printf(\"\\nNumber of Capital letters \"\n",
        "\t\"in the given input - %d\\n\", count);\n",
        "\n",
        "return 0;\n",
        "}\n"
      ]
    },
    {
      "cell_type": "markdown",
      "source": [
        "# Bison"
      ],
      "metadata": {
        "id": "O5BYUQtotWHS"
      }
    },
    {
      "cell_type": "markdown",
      "source": [
        "## Definition\n",
        "\n",
        "* Bison is a general-purpose parser generator that converts a grammar description (Bison Grammar Files) for an LALR(1) context-free grammar into a C program to parse that grammar.\n",
        "\n",
        "* The Bison parser is a bottom-up parser. It tries, by shifts and reductions, to reduce the entire input down to a single grouping whose symbol is the grammar's start-symbol."
      ],
      "metadata": {
        "id": "F1HC_y0BuE-K"
      }
    },
    {
      "cell_type": "markdown",
      "source": [
        "## Diagram"
      ],
      "metadata": {
        "id": "HVzzA_3LurTp"
      }
    },
    {
      "cell_type": "markdown",
      "source": [
        "![bison.jpg](data:image/jpeg;base64,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)"
      ],
      "metadata": {
        "id": "vPc3iCm2uuE_"
      }
    },
    {
      "cell_type": "markdown",
      "source": [
        "Steps to use Bison:\n",
        "\n",
        "* Write a lexical analyzer to process input and pass tokens to the parser (calc.lex).\n",
        "* Write the grammar specification for bison (calc.y), including grammar rules, yyparse() and yyerror().\n",
        "* Run Bison on the grammar to produce the parser. (Makefile)\n",
        "* Compile the code output by Bison, as well as any other source files.\n",
        "* Link the object files to produce the finished product."
      ],
      "metadata": {
        "id": "U9XgpiT4vQe7"
      }
    },
    {
      "cell_type": "markdown",
      "source": [
        "## Code snippet"
      ],
      "metadata": {
        "id": "Hp5GXywlvbGw"
      }
    },
    {
      "cell_type": "markdown",
      "source": [
        "desk calculator which performs '+' and '*' on unsigned integers"
      ],
      "metadata": {
        "id": "_4-qzcpkvklR"
      }
    },
    {
      "cell_type": "code",
      "source": [
        "/* Mini Calculator */\n",
        "/* calc.lex */\n",
        "\n",
        "%{\n",
        "#include \"heading.h\"\n",
        "#include \"tok.h\"\n",
        "int yyerror(char *s);\n",
        "int yylineno = 1;\n",
        "%}\n",
        "\n",
        "digit\t\t[0-9]\n",
        "int_const\t{digit}+\n",
        "\n",
        "%%\n",
        "\n",
        "{int_const}\t{ yylval.int_val = atoi(yytext); return INTEGER_LITERAL; }\n",
        "\"+\"\t\t{ yylval.op_val = new std::string(yytext); return PLUS; }\n",
        "\"*\"\t\t{ yylval.op_val = new std::string(yytext); return MULT; }\n",
        "\n",
        "[ \\t]*\t\t{}\n",
        "[\\n]\t\t{ yylineno++;\t}\n",
        "\n",
        ".\t\t{ std::cerr << \"SCANNER \"; yyerror(\"\"); exit(1);\t}\n"
      ],
      "metadata": {
        "id": "D2aks3HpvqXZ"
      },
      "execution_count": null,
      "outputs": []
    },
    {
      "cell_type": "code",
      "source": [
        "/* Mini Calculator */\n",
        "/* calc.y */\n",
        "\n",
        "%{\n",
        "#include \"heading.h\"\n",
        "int yyerror(char *s);\n",
        "int yylex(void);\n",
        "%}\n",
        "\n",
        "%union{\n",
        "  int\t\tint_val;\n",
        "  string*\top_val;\n",
        "}\n",
        "\n",
        "%start\tinput \n",
        "\n",
        "%token\t<int_val>\tINTEGER_LITERAL\n",
        "%type\t<int_val>\texp\n",
        "%left\tPLUS\n",
        "%left\tMULT\n",
        "\n",
        "%%\n",
        "\n",
        "input:\t\t/* empty */\n",
        "\t\t| exp\t{ cout << \"Result: \" << $1 << endl; }\n",
        "\t\t;\n",
        "\n",
        "exp:\t\tINTEGER_LITERAL\t{ $$ = $1; }\n",
        "\t\t| exp PLUS exp\t{ $$ = $1 + $3; }\n",
        "\t\t| exp MULT exp\t{ $$ = $1 * $3; }\n",
        "\t\t;\n",
        "\n",
        "%%\n",
        "\n",
        "int yyerror(string s)\n",
        "{\n",
        "  extern int yylineno;\t// defined and maintained in lex.c\n",
        "  extern char *yytext;\t// defined and maintained in lex.c\n",
        "  \n",
        "  cerr << \"ERROR: \" << s << \" at symbol \\\"\" << yytext;\n",
        "  cerr << \"\\\" on line \" << yylineno << endl;\n",
        "  exit(1);\n",
        "}\n",
        "\n",
        "int yyerror(char *s)\n",
        "{\n",
        "  return yyerror(string(s));\n",
        "}\n",
        "\n"
      ],
      "metadata": {
        "id": "dRwVim0_v9gB"
      },
      "execution_count": null,
      "outputs": []
    },
    {
      "cell_type": "code",
      "source": [
        "# Makefile\n",
        "\n",
        "OBJS\t= bison.o lex.o main.o\n",
        "\n",
        "CC\t= g++\n",
        "CFLAGS\t= -g -Wall -ansi -pedantic\n",
        "\n",
        "calc:\t\t$(OBJS)\n",
        "\t\t$(CC) $(CFLAGS) $(OBJS) -o calc -lfl\n",
        "\n",
        "lex.o:\t\tlex.c\n",
        "\t\t$(CC) $(CFLAGS) -c lex.c -o lex.o\n",
        "\n",
        "lex.c:\t\tcalc.lex \n",
        "\t\tflex calc.lex\n",
        "\t\tcp lex.yy.c lex.c\n",
        "\n",
        "bison.o:\tbison.c\n",
        "\t\t$(CC) $(CFLAGS) -c bison.c -o bison.o\n",
        "\n",
        "bison.c:\tcalc.y\n",
        "\t\tbison -d -v calc.y\n",
        "\t\tcp calc.tab.c bison.c\n",
        "\t\tcmp -s calc.tab.h tok.h || cp calc.tab.h tok.h\n",
        "\n",
        "main.o:\t\tmain.cc\n",
        "\t\t$(CC) $(CFLAGS) -c main.cc -o main.o\n",
        "\n",
        "lex.o yac.o main.o\t: heading.h\n",
        "lex.o main.o\t\t: tok.h\n",
        "\n",
        "clean:\n",
        "\trm -f *.o *~ lex.c lex.yy.c bison.c tok.h calc.tab.c calc.tab.h calc.output calc\n"
      ],
      "metadata": {
        "id": "ieMQaBBbwAOB"
      },
      "execution_count": null,
      "outputs": []
    },
    {
      "cell_type": "code",
      "source": [
        "/* main.cc */\n",
        "\n",
        "#include \"heading.h\"\n",
        "\n",
        "// prototype of bison-generated parser function\n",
        "int yyparse();\n",
        "\n",
        "int main(int argc, char **argv)\n",
        "{\n",
        "  if ((argc > 1) && (freopen(argv[1], \"r\", stdin) == NULL))\n",
        "  {\n",
        "    cerr << argv[0] << \": File \" << argv[1] << \" cannot be opened.\\n\";\n",
        "    exit( 1 );\n",
        "  }\n",
        "  \n",
        "  yyparse();\n",
        "\n",
        "  return 0;\n",
        "}\n"
      ],
      "metadata": {
        "id": "g4CnRmIewNqp"
      },
      "execution_count": null,
      "outputs": []
    },
    {
      "cell_type": "code",
      "source": [
        "/* heading.h */\n",
        "\n",
        "#define YY_NO_UNPUT\n",
        "\n",
        "using namespace std;\n",
        "\n",
        "#include <iostream>\n",
        "#include <stdio.h>\n",
        "#include <string>\n"
      ],
      "metadata": {
        "id": "o8TtNK_hwO0x"
      },
      "execution_count": null,
      "outputs": []
    },
    {
      "cell_type": "markdown",
      "source": [
        "# Lex "
      ],
      "metadata": {
        "id": "JGku-GzxwZOu"
      }
    },
    {
      "cell_type": "markdown",
      "source": [
        "## Definition"
      ],
      "metadata": {
        "id": "jbkFKOl-wdrm"
      }
    },
    {
      "cell_type": "markdown",
      "source": [
        "* It is a tool or software which automatically generates a lexical analyzer (finite Automata). It takes as its input a LEX source program and produces lexical Analyzer as its output. Lexical Analyzer will convert the input string entered by the user into tokens as its output.\n",
        "*  LEX is a program generator designed for lexical processing of character input/output stream. Anything from simple text search program that looks for pattern in its input-output file to a C compiler that transforms a program into optimized code.\n",
        "* In program with structure input-output two tasks occurs over and over. It can divide the input-output into meaningful units and then discovering the relationships among the units for C program (the units are variable names, constants, and strings). \n",
        "* This division into units (called tokens) is known as lexical analyzer or LEXING. LEX helps by taking a set of descriptions of possible tokens n producing a routine called a lexical analyzer or LEXER or Scanner."
      ],
      "metadata": {
        "id": "2crDZkjtyHCz"
      }
    },
    {
      "cell_type": "markdown",
      "source": [
        "## Diagram"
      ],
      "metadata": {
        "id": "bxi2u4uUySMv"
      }
    },
    {
      "cell_type": "markdown",
      "source": [
        "![lex.jpg](data:image/jpeg;base64,/9j/4AAQSkZJRgABAQEAYABgAAD//gA8Q1JFQVRPUjogZ2QtanBlZyB2MS4wICh1c2luZyBJSkcgSlBFRyB2NjIpLCBxdWFsaXR5ID0gMTAwCv/bAEMAAQEBAQEBAQEBAQEBAQEBAQEBAQEBAQEBAQEBAQEBAQEBAQEBAQEBAQEBAQEBAQEBAQEBAQEBAQEBAQEBAQEBAf/bAEMBAQEBAQEBAQEBAQEBAQEBAQEBAQEBAQEBAQEBAQEBAQEBAQEBAQEBAQEBAQEBAQEBAQEBAQEBAQEBAQEBAQEBAf/AABEIAOoBWQMBEQACEQEDEQH/xAAfAAABBQEBAQEBAQAAAAAAAAAAAQIDBAUGBwgJCgv/xAC1EAACAQMDAgQDBQUEBAAAAX0BAgMABBEFEiExQQYTUWEHInEUMoGRoQgjQrHBFVLR8CQzYnKCCQoWFxgZGiUmJygpKjQ1Njc4OTpDREVGR0hJSlNUVVZXWFlaY2RlZmdoaWpzdHV2d3h5eoOEhYaHiImKkpOUlZaXmJmaoqOkpaanqKmqsrO0tba3uLm6wsPExcbHyMnK0tPU1dbX2Nna4eLj5OXm5+jp6vHy8/T19vf4+fr/xAAfAQADAQEBAQEBAQEBAAAAAAAAAQIDBAUGBwgJCgv/xAC1EQACAQIEBAMEBwUEBAABAncAAQIDEQQFITEGEkFRB2FxEyIygQgUQpGhscEJIzNS8BVictEKFiQ04SXxFxgZGiYnKCkqNTY3ODk6Q0RFRkdISUpTVFVWV1hZWmNkZWZnaGlqc3R1dnd4eXqCg4SFhoeIiYqSk5SVlpeYmZqio6Slpqeoqaqys7S1tre4ubrCw8TFxsfIycrS09TV1tfY2dri4+Tl5ufo6ery8/T19vf4+fr/2gAMAwEAAhEDEQA/AP7+KACgAoAKACgAoAKACgAoAKACgAoAKACgAoAKACgAoAKACgAoAKACgAoAKACgAoAKACgAoAKACgAoAKACgAoAKACgAoAKACgAoAKACgAoAKACgAoAKACgAoAKACgAoAKACgAoAKACgAoA/L3/AILQfFX4j/A//glt+2n8XfhF4z8QfDv4lfDr4PXfirwV438K30+ma74d1/SvEGhT2N5ZXEB6Ehra9trkPZX1nPc2N/aXdhdXVo4B8BfCb/gl1+3V8T/hb8NviSP+C6P7fuhj4ieAfB3jn+xRoXwe1P8Asg+K/Del66dM/tT/AIRuzOoHTGvjbG7+x2QvfKBFpaZIAB3/APw5+/br/wCk837f3/hJfB7/AOUtAB/w5+/br/6Tzft/f+El8Hv/AJS0AH/Dn79uv/pPN+39/wCEl8Hv/lLQAf8ADn79uv8A6Tzft/f+El8Hv/lLQAf8Ofv26/8ApPN+39/4SXwe/wDlLQAf8Ofv26/+k837f3/hJfB7/wCUtAB/w5+/br/6Tzft/f8AhJfB7/5S0AH/AA5+/br/AOk837f3/hJfB7/5S0AH/Dn79uv/AKTzft/f+El8Hv8A5S0AH/Dn79uv/pPN+39/4SXwe/8AlLQAf8Ofv26/+k837f3/AISXwe/+UtAB/wAOfv26/wDpPN+39/4SXwe/+UtAB/w5+/br/wCk837f3/hJfB7/AOUtAHxl/wAFEf2KP+CgH7Ef7En7Sv7V+hf8Fs/27vH+t/A34Xav410jwfqulfCbQ9L1vVLea3sbCHVNVtvDl7dQafb3d9Dc3otbQXl5aW72K3tl9qW8tAD+lf8AZl1bVdd/Zw/Z+13W9S1DWtZ1v4JfCvVtZ1jVru41LVdV1S/8CaFe3+oare3DXNzfahe3U811eXdxcNc3V3I7yMWkJoA92oAKACgAoAKACgAoAKACgAoAKACgAoAKAOY8VeLPDHgTw5rnjLxt4j0Lwf4O8L6Xfa94m8VeKdY0/QPDfhzQtMha91XWtd1zWLmz0zSNH0y1hnur/VNSurSzsrWEs7KvzUAV/Bfjbwd8SfCXhzx78O/F3hrx54E8YaPYeIfCXjbwXr2meKvCfivw/q1ut7peveG/Eeg3V7oms6PqdrLFc2OqaXeXVleW0we0uWBDEA+avif/AMFB/wBgn4IeNtW+G3xp/bf/AGQvhB8RNANt/bvgH4o/tLfBnwB410UX1pDf2Lat4V8VeNdI1zThd6fcQXVmLuxT7TazwXaFlZWYAnsP2+/2FNV+FuufHLTf21v2S7/4KeGfFFj4I8SfF+x/aQ+EF18LvD3jLUre2vNP8Ia38QLfxn/wiekeJry2vrG7stBvtVttYu7S5tnjtHW4QkA9W+Jf7RHwB+Cdh4L1P4y/HP4PfCfTPiPr1h4U+Hep/E34m+CvAWn+PfFGqw/aNK8OeDb3xRrWk23ijX9Tg/0ix0nQmvb27j+a0tZAc0Aez0AfLPgv9t39i/4j/FW9+BXw6/a7/Zg8efG/TtS8RaPqHwb8GfHz4WeKPipYax4SmvYfFem3vw60TxbeeLbfUPC81hfjxJZT6Qt3o7Wd3/aKWptWwAfU1ABQAUAFABQAUAfkD/wX3/5Q2/8ABQn/ALN/1j/0+aDQB9+/sn/8msfs1f8AZAvg3/6r3w5QB9A0AFABQAUAFABQAUAFABQAUAFABQAUAfkD/wAF9/8AlDb/AMFCf+zf9Y/9Pmg0Affv7J//ACax+zV/2QL4N/8AqvfDlAHaeHvjF8JfF3j7xz8KfCfxR+HXif4pfDK10G7+JPw08PeN/DesfED4fWnimG4ufDV3438GafqVx4j8IW3iC3tri50W417TbJdXjt7hrA3QtmIAPTaACgAoA8y+H/xg+EvxZk8Z23wr+Kfw6+Jdx8OvF2ofD/4hweAPGvhvxlN4E8e6TDbTat4K8YxeH9S1U+FvF2mW97Z3N94Z11bHWbNbi2a8s0W5ViAem0AFAHmXh74xfCXxd4+8c/Cnwn8Ufh14n+KXwytdBu/iT8NPD3jfw3rHxA+H1p4phuLnw1d+N/Bmn6lceI/CFt4gt7a4udFuNe02yXV47e4awN0LZiAD02gAoAKACgAoAKAPgf8A4Km/8o2f26v+zV/jf/6geuUAeef8EWP+USf/AATk/wCzOvgP/wCoHpFAH8WX/BS3wx8P/E3/AAXD/wCCio8e/wDBG/47/wDBXmK20H9nOTTfD3wP+J/7Tnw0uvgVJN8Nbc3Gr+I5v2cPBHje81eHx6Ibe0sP+ErWxsbNvC10dCa6Nze7QD+jr/gln+x1+yd8Xv8AglH+0b8H/Gn/AATG+If/AATG+Ef7QniT4lWvxi/Zv+OfxI+Pnj3xTAumeFtB0Oy+M0HiT9obRvCPjXw99ksNE0rVvDVzpelaTpGjX/haDW7C9a+F3dAA/Bj/AIN6Ne8N/t9/8FCdB8EftTftVWX7R2i/8EnvAPi3wp/wTq8D61YS6X/ws3wxb/EHxFolv+0Lqtvc2ts3ijUPAvg//hBrTwza6tdXmsaPZS+Cr68s7S+8JHV9XAP7nP2yPhH49+Pn7KH7R3wR+Fnjhfht8R/iz8F/iL8PvA3jxluzH4U8UeK/C2q6JpOsXBsf9LFtaXN7Ebv7L/pX2P7RsBOMAH+dn4K/ZS/Zo/YH/wCFR+Dv+Cmn/BHj9vT9hnx98DPEHwcvte/4K7fsa/tBePPi74Cl+IZ8baHY+GvG3iKDxdbeNv2YPh/4W8TNcwXnjSy8Gaz4u8d6Tewf2F4U+Huka3qq6NZgH9ZP7TX7TX7c37Wf/BQa3/4Jzf8ABPz9qPwT+x54d+FH7MHg79qD4x/tX658C/B37SHj3xfH8Rb3+yvh14I8A/Drx9d6T8PxoOp2U8OveKteuraz1bdPbDQ760WzvNH1gA/Pj4uf8FbP+ChPwu/YE/bK8FeMfid4J0/9t39gD9vb9nX9lDxf+0Z8Pfh34NPhr45/Dr4i+MfCsNv48vfhn458N+IPBXg/xj4x8MXuq23jLStB0m00bRr2YXvhAaKAqWYB+nn7b37Z37SXwh/4K3/8EaP2ZPh38SW8O/BH9qyx/aak+Pvgn/hEPAmqDx/L4A+G+ma74OP/AAkes+FNW8W+FxpWsTzXX/FGeIPDq3oO3UvtdioUgHxn/wAE3P2jf+CqH7UGoftRftZfGT9ubQdM/ZQ/Ys/a2/a98HXX7O3hX9l34KXnxB/aJ+HPwlh1S+0vwT4p+MJtdIPw307wYbLSbTw1qngzwleeL/ElpP4j/wCEu8T3t3daNfaOAW/2I/il/wAF5v2ufBX7L3/BRvwV+05+zl4n+B/7SXxT/tLxN/wT31j4LeD/AAf8Ofg3+zbe6lr+hz+JLf8Aahhs7r4+eKPiDoFtodveDSbbQNatLrxhrcDst74TtrvR7AA/P7/goH/wX6+L+kftfftmeAPh7/wUl+F3/BP7S/2K/FFz4A+DX7Onir9ibxh+03cftwePPB1o2q+Kv+FnfFqw8A+KT8CPCGq+KLEeAdGufCl3pOs2mjajc644N5aW2tIAfrd/wUA/afX9tH/g2j+Ov7VA0VfDM/xy/Ym0zx5qPh+ETC10bXdQ1LRIPEemWP2i6urk6fa61b39vYm4urtvsX2fdd3hJdwD9uv2T/8Ak1j9mr/sgXwb/wDVe+HKAPoGgAoAKACgAoAKACgAoAKACgAoAKACgD8gf+C+/wDyht/4KE/9m/6x/wCnzQaAPv39k/8A5NY/Zq/7IF8G/wD1XvhygD8Tf+CfP/Kff/guJ/2Tz9hX/wBQ7xxQB1n/AAXu/wCCoHi3/gnp8PP2bvAfw/8Aiv4V/Zt8T/tV/FXUPAutftV+M/hlrvxr0n9m34ceFdOstW8Y/EjSfg7oOjeIbn4keLwdQ0rS/Dfhq80nVNIY3l0+o2QTbd2QB8lf8Elf+Cl/x+/4KFaf+37+xd4G/b/8OftIfFL4P/Drw542/Zj/AOCkXhL9lK0+A+qavH8QIL63Np8Rf2bPiR4IHgq11f4ceOYINBFta+CLzSPEXg6f7d9v1jXN17aAGX/wSS/4KOf8FIv+CkX7Wuk/BT4gePPAXwg8If8ABOvwhr3gv/goFN4Gb4J+ONT/AGtv2jP+E28VeCPCkPhSEeEtUuvh/wDCe50nwfc+Kta174d/8Ief+Emi1vwrp199iNiLIA8a8Ef8FK/jh+yn+yh/wWO+L3w68E/BDUfjFpn/AAV/1v8AZb+Brw/CP4ZfCbwfpOv/ABN/4V14c0Px38Yh8F/BXhLWfivqPhcapfane+KPGf8Awkvj7xNdWWnadrvie9sICtoAfsD+yL4D/wCCx/7OPxh8a237Z37XfwF/bT/Zbm+AEnj+b41+LvhX8P8A9lDxR8LPjJpQ1OWfwHpOh/CLT9X0zxD8N7ewtjq3jXx5470rR7qz0m407UPD4+26XrPhm8AP51tD/wCC2/8AwUA8G/tPfsZ/ELTv237T9tH4CftOftfaB+z38UPh38L/APgnjrPwn/YM+Fd1468a3HhW5+G/wW/bu+J/hP4efG342/ErwJptzYeKfDFuPBTaVq+kwXWt+INa1iytP7I1YA/ar/gnz/yn3/4Lif8AZPP2Ff8A1DvHFAH9GdABQAUAFABQAUAfP37U3wQP7S/7Nvxy/Z7PiYeCz8avhV43+GJ8X/2J/wAJH/wjY8ZaBe6F/bP9hf2noH9sf2Yb43Q03+2NJN35O37daZLgA/l0+E3/AAbS/wDBQ74OWnw+8OeC/wDg4n/bO8O/DX4cP4esPD/wt8LeEfjj4X8D6f4S8OTQC28H6J4c0f8AboXQtA8P/wBnwf2Xa6ZZ6S1jZ2jBUsig+ygA+g/2x/8Ag30/ad+P/wC2n8cf2xf2cP8AgsD8ef2G9S+PWn/D3TfF/hD4I/Dv4h6VeapD8OvCll4c0xfE3jbwL+1X8KLjxfAtzBqerafb6poCro7atdR2e8vc3l2Aei+FP+CJ37ctj+w1+0N+xh8RP+C0fx5+M9/+0d438MXPif46fFX4X+PPiB4+8LfBux002Pjb4N+AYPiB+1V4wPhe3+Ih8oaz4ntNXxa2M+paf/wjV616b5AD3n4+f8ERPhhr5/YE8XfsffFNv2Mvjf8A8E8f7E8N/Cb4qaJ8N4viLa+M/hLFAB4w+FnxM8GW3jT4aW/ijTPGd0b7U7/VT4gW7sbzxF4veys/+KhvMAHv37Z/7Sf/AASp+Lnww+OP7Ev7YX7cH7HHhWPxp4Z1X4Y/F/4feKP2qvgp8NPiD4Zub60habzNE8Q+Pv8AhI/B3ibSro2eu6ImqWjXVjdwaa14t2oYXAB/KtZf8Ezv2HPEmp6b8L/jv/wdvaX8a/2GLDV4LKX9kHVv21Phvp9lqPw08Nz+d8P/AIe3PinVv2zPFvw3tx4YFj4ctr7VdM+AtlZXdppV0fCfhrwJe3ek3nh4A/WD9rb/AIdv/Ej43fDn9qz9hX/gvV+xh/wTw/ag8B/COx/Z41Lx54X+M37Gvx/+HXj74D6URPoPgnxj8F/iP8T9J0LUdY8LXMNufBvicavjRbP7Qh0a9vf7IvtHAPJLr9nX/gi1rv8AwT6/aD/Y88cf8Frf2WfG3xw/ao+I+mftB/Hf9tDUv2vf2abb4h+Lf2mdD1fSfEXh74kaZ4It/iyNG8LeB/DOs6JY2vhr4YaB4htP7I8MC50RfGR1G7u/EZAOJ+G3wq/ZQH7Zn7Dn7bP7Vf8Awc8/shftb/EL9i1fiXpWl+GfEXij9i34WeEfEPhLxt4PvvCelab4Wsfhv8frQ+CPEFp/as+qeNvGnij/AIWr4h+I/wDZ/hyyc+Gk0bddgH35+wF8Tf8Agk7+xL8Hf2j/AIOeIf8Agrh/wT6+OWgftGftHfHr47679s/aM/Z28D2em6N8d75ZtV+H1xp6/Hbxp/bNtpWn+fpj699t0j+2VnJ/sTSs7WAPzV+Hf7MH7CHw31j4U/BzQP8Ag55+A9h/wTm+BHx6034/fB/9jnQfjr+x14b+Jng/WNC12+8V6H4UH7ZOnfGRvihqHg+z8UapqxbTB4asj/wjWoNoti2la6ieL1APkT/gtf8AtReC/wBijxL8S/2wf+CQf/BWT4S3nh79tn4neHNM/bm/Zo/Zy/aG/ZZ+IXxIm1aLwrf6VbfGz4I61BbfEPx/8LdQ1TRtMvdA8UeKPB1n/bPh3xhqvhvxUL26sGNjowB9QfHr/gt7/wAE6v24P+CF37WHwB+FHxq+IXhn49eGv2Tx4UT4SftbeML3Wv2gfHN14bbw9Bfa1b/E7WdS1XTPjz4g1OGxv9e1nVNC8QXXjG7tILzXNe8GeGrItZ2gB/Xf+yf/AMmsfs1f9kC+Df8A6r3w5QB9A0AFABQAUAfgjrPxh+Lkf/Bx54H+B0PxQ+IyfBS7/wCCYPjXx/dfB9PG3iWP4YXPjuy+Nnh3SrfxtP8AD46mPCNx4ttdPuJ9NtPFB0g60tlNc2AvRZnaQDs/+DiX4r/FL4J/8Ejv2pPiT8GfiT4++EfxE8PxfDo6B4++GXjDxJ4D8a6Ib74keFLG+Ok+KvC+paTrWnC60+4uLS9+y3im7sp7iyIO/IAP5Uf2E/Efw0+Kf7Vn7K/hnwn/AMHbv7cvxx8f658XvhdqMH7OfiD9nz/govpWgfFG/wBL8QaV4h1X4Sa54p8bfHX/AIQG10fxRbaff+GdR1TxDZ3nhw2V7cNfWGoWbCzuwD9i/wDgrv8Atiftbf8ABEX9r24/bR8I+I/if+0v+x/+2p4D1/4TP+zn8QPit4q1/QvgT+1z4b8K+Itb+GWvfB3Q/FGteIbfwh4H8dzwQv4z8L+DfD+k2Rs7LxGUF5f23g3SLUA/Y7/gkT+zj+01+z9+yVoWq/tm/H/4o/H79qL44atdfGb4tXvj/wCJXjDx54Y+GmqeMs6rpXwk+FmleIPEWr6H4M8H+BdHvINMu9N8H2mkaHqGtrqV3YWg0W30W1swD9UKACgAoAKAPyB/4L7/APKG3/goT/2b/rH/AKfNBoAtfszf8FSv+CZOgfs3/s/6Hrv/AAUX/YS0TWtE+CXwr0nWNG1b9r34A6bquk6pYeA9Csr3TdVsrnx/a3VjqFnc289teWlzbrc2l1GyOoZSKAP58v20P2Wf2Tv2hf23Pjx+2Z+zZ/wdTfs9fsLXv7QFp4CsPFvgn4G/tB/DfS7m8tfAHhq18PaTb+JPG3gH9vD4TTeL7a2nF/qlhBqnh2NdGbVruOyLb7m7uQD2DR/gl+wrqP7J/wANfhd8Xv8Ag5p+BPxf/bF/Z5/aH1L9o/8AZh/by8W/tS/AjxP49+E3ie+0LT9Ci8I614C+LX7UPxbPxA+HDW0F82teDrn4geG7HWWuLYAWK2t6urgH1J8KPi18CPAXwC/aj0Lxx/wc+/sz/Gb9rr9pTQY/DOm/tK+NPjl+zLpfwn+Aml2OmT6Hpl78Cf2O/B/7SHh/4X+B/FNvpt/fXus+KNK8RWd14m8TRaJrmuWd0mkjSbsA+fP2cv2fP+CPX7F3xt/Y4+Ov7H3/AAWk/YR+EXjP4H/DnWvhZ+1g+qfHf9m7xhD+3v4X8R3K61resfFia0/aE8KHwx8QrfxPPf8AiHQ/HITxjeaOw0TT2s9V0/w+lndgG7bfAb/gi54k/Z7/AOChH7O3xj/4LHfsS+NfDv7cv7XfiD9r/QfFPgj9pv8AZ1+GfjT9n3x3cReFp/Bp8Laqfjp42t/FGr+DNY8KwXh8QXVl4ctPEdnf6hot54btI7o3RALf7OOg/sZ6F8WPFfxi/bx/4OW/2aP24tf1P9mjxP8AspeFPD2hfGr9kL9lDwRonwq8cw3C+JT4y8N/Df41eKrf4reLVab7T4Y1/wAVXY/se+uLrWNStPEeo/2Ne6MAfy3/ALbPx1tv2LP2iP2H/wBlTX/+Clek/wDBQr/gn5+yD8RPgv8AtHfsueLf2ZZf2Y/iAvwjj8D+PdUvNc+GXxT8EfD7xXZ618R/HGl6RpFvoOh3nij9oTwZZWfhrxGPE+g2IXVr3wZo4B/a3/wSd8afsT/tP/tlftwf8FD/ANk/9tLwh8bbv9sDwl8BdN8T/s3XHgpvAHxX+AQ+C+j63oRm8YaTr3i+68Waxb+ILrW2Uar/AMIB4e8NfbbCf+wPE3iezb7WAD+g2gAoAKACgAoAKACgAoA/Gn/gr9/wVU8cf8EvvDX7ON58M/2QPFf7Z/j79pH4p6z8K/Cvwt8DePdY8H+L5NZ0rw5/wkcH/CO6VoHwl+MWt+MNQ1MD7ImhaZoFnd9btbq6+5QB8tf8E+/+C9nxD/ae/au8Pfshftj/APBNL9o//gm98Svif4P8R+LfgTd/Gi58Y32jfFNfA8E19450zHxA+CXwI1rSJ9K082V1YanpGk+L9IvXGo2WuX3hm7t9IGtgH7P+Df2zv2PviL4n8HeDPh9+1j+zb468YfEN/FC/D/wj4M+Onwx8TeJPHP8AwhN5e2HjAeEND0bxVd6p4nPhXUbC+s/Ew0K0vf7Eu7G6s9S+ytaXQAB8ieJPgv8A8ESfj9+0v42+HHi74Uf8Er/jV+2Lf6tqmo/EfwH4k8B/slfEj9pe81jSbSC41q98ceFtQ0vWPijcajpunC3uNRu9eszd2dn9me9KrtLAGX8Tf2LP+CGXwS1/wF4V+M/7Jn/BJ34R+J/inrkPhv4X+Gvif8CP2QPAev8AxI8RXF5p+mQaD4A0fxR4T0nUPGGs3GoatpdkulaBa3979r1DT7MWpa8tQwBzjfsv/wDBABPDreMG/Z2/4I7r4QX4o/8ACkG8Ut8I/wBi3/hHF+NP2z+y/wDhTx1v/hHP7MHxQ/tD/Qz4BN3/AMJb9s/0T+yN+FABmTfs8f8ABvTB8NfE3xlm+Bf/AARkh+EHgnxd/wAIB4z+K0/wz/Yij+G3hHx39rgsT4J8UeOW0MeGdA8Xi6uLe1/4RfVNUs9Y+1zwWn2Lc4BANjTf2Vf+CBGs/BbUP2kdJ/Zw/wCCP+p/s7aVNdQap8etO+EH7GF98FtNlsNUi0O9ivvirbeHG8EW01rrE8OlXoufEAa01aVdPfF4VSgCLSv2Xf8AggHrniX4g+C9F/Z2/wCCPWs+MPhR4Vl8dfFLwnpfwh/Ys1DxL8NPBEWn2eqzeMPH+g2nhy41Xwd4WTTtQsdUOveILSx0gWF7aXxvvsl1bMQDuvhD+wb/AMETP2gPBsPxH+A/7Gf/AAS0+N3w+u7++0m28efCP9nX9kv4k+D7nVNKmMOq6ZB4p8H+ENZ0S41DTZ8JfWqXpurNtou0VmoA/K7/AIK3f8ECPB37asnwM/Zx/Yl/Za/Yb/Yl+GEXiK6+Jf7Rn7WfhT9nP4QeGPiWun6ZDPoXhD4RfC3Qvhv4a8PeNPEE97Pf6v4w8a22q+IvAfhp10jwTZL4pvjc6zowAPmv9sr/AIICf8E9f+CZf/BHP9unxt8Nvh5c/Fr9oXSv2eda3/tFfGcWXijx3pl/Pqeh299N4B0mG2s/CPwwtvJmv7WyuvCukWvi5tGv59G17xV4kVvmAP6uP2T/APk1j9mr/sgXwb/9V74coA+gaACgAoAKAP5Tv+CoXwR/4LLfDr/grH8P/wBvT/gl7+yN8KP2jYNP/Y3uf2d9fvPjJ8QfhxoXhSwl1v4hz+LNagh8Oaz+0d8BvG02s2q6VoRs9Utbq80RbW8ukK3t63+hAHF/tDfD3/gvd/wUh/4JU/t1/s/ftofsQ/Aj4V/HvxJqHwatv2cPAfwQ+I/w4sLf4g6VY+NbHXPiDP4j8R+If2q/iv4S0efQbfSLI2J1bxH4O+2efcixs9XPyqAfG37N3wH/AOC7Pws+LfwX16L/AINyv+CKHwti8JeNPA41L4yeAvhJ+yzovxX8F6Fb6lY2PiLxp4c8VeHv22LnXbbxjZ6K1/qdpqmlWV5dm/yVsLzebMgH6X/tP/8ABKb43f8ABYX9vP4va3/wUU+GfiD4S/sE/s8/DXxF8Mf2KfBWjfFzwte+KPiV8SvHEEMHiL9pbW7H4UeNNYn8P/2Hcafb3Xhnwv47urC6vLSDw5Ya94Zu7I+JrFgD72/4I0+Bv+CgfwF/Z31n9k79vfwUb7UP2Z/Ekvw3+Af7SOn+PPBPinSv2jfgXpfn23gjXr7RNJ8X+IPH/hDxN4f0+CDS76z8e6TpN5d6OdE/0q+1G11c0AfsTQAUAFABQB+QP/Bff/lDb/wUJ/7N/wBY/wDT5oNAHwJ+1F8Mf+CUv/BPb/glz8Kv2s/Gf/BKv9h/46+P774Zfs7+HfBvw0/4Zj+AWl+NPjZ8WfiZoXhWxstAtvEjfBzxxrE+u6rNd6prt/dJ4d8SX1ytjdv9juncvQB9N/8ABPj9nj/gkD+37+xx8H/2uPDX/BL3/gn14Ft/iL4cu7rxh4Dm/Zg/Zx8SyfC/xv4dvr7RPHPgTW/EY+Evh4XFz4W1rTL22u7u88PeHLq5sVtr690bTxdi0UA6qy+CP/BuhqN58OdO0/4Sf8EVL6++MWpX+i/CSxs/AH7C1xe/FLWNJ8QTeD9X0f4dQQaW1x441HTfFUM/hi+svDA1a7svEcFxol2q6ijWYAO2+OH7I3/BBf8AZjt9AvP2kP2Yv+CRX7Pdr4tn1C28K3Xxv+C37Gnwot/EdzpUNvPqsHh6bx94Z8P22sz6ZDdWpvU01ro2Ynt2vAouFNAHyP8At5eAP+CSn7G3gb9kX4g+E/8Agk3/AME6fj94Y/a1/ai+Bf7Ovh/XfDnwG/Zp0Dw/pWifHHUTb6V8UtF17T/gX440zxvpFpaiHU7HSrJ9Hs/EVpMrWPiezRhckA+4/A37Bn/BEz4n+HvFXiz4b/sZf8EsviF4X8C6/wCI/CnjnxJ4H/Z1/ZL8V+H/AAZ4o8HA/wDCYeG/FWt+H/CF7p3h7xB4WyB4l0nVrqzvtFx/xMbS0yaAPBvEvw0/4NsfBWgeB/FvjLwB/wAEO/CnhX4m6VqGu/DfxL4n8KfsFaH4f+IWhaXqU2iaprHgbW9W0+z03xVpGk6xbT6Xf6noFzf2dpfw3Fjdst6rCgD8Ff2if+CHf7Hn/BS39pbx9+2fpnxp/YD/AGH/APgkh8BNNtfhvoGt/sW6h+zHpkvxQHhWdb74jfE74mfE74cH/hRXwtuNT8QeIzpnhrVPGWsePPEuk+DtD8J2Ou/DzwhqGrXmQD+kn/gn/wDs4f8ABIr9hj9mvVfi9+xDqP7LWg/AnTdI1P8A4WB+1xo3xW8BeO7HXbHwtP5PiS9+I37TNz4i1a1bTtI1KCd9W0ufxZY+EPDN/wDaFsdF0VSbQAH3t8Nv2mv2bvjL4u8QeBPhD+0J8Dvir458J6FoHijxT4L+HHxX8CeOfFvhjwx4rsLHVfC3iHxB4b8M67qms6NoHifTdV0rVdD1bUrSzstYsb+wvbC7u7O7tXYA93oAKACgAoAKACgAoA/le/4OVPg744/aA+If/BIL4LfDT41eK/2cfH3xI/bb1/wv4U+OfgZNYk8Y/DDWL/4bXBt/FXh0aB4r8Ea3/aFn5R2/2X4u8O3eJQwvgTgAHsX7B3/BBvx3+y1+0VZ/tf8A7Yf/AAUk/aV/4KP/ABd+F/gTxj4T+ArfGh/G2n6B8JrXxvp5svGepQQeOfjV8b9b1jUNW06KG0srbTfEPhrw9ZrPqF3qOieItR/sa90UA+Ff+CJP7KngPTv+CPX7Uv7UXwG+B/gGf9vHxJ4g/b8074e/HKDwPoGo/HGz1vT9X8YeFPCvhvwT8QJ9LufF3h+1aDSrK2sdA0DVLOzvNXmN49q97eEsAfmPr8H/AATGuP8AgiP+x3D+ydF+z7c/8Fmn8efs6f8ACJQfDiPwzL+3+/7XH/C07Cb4j/8ACxIdOB+Pv/CK/wBojxYdaPinPhEeH/7Obw+ftv8AwjGAD9MNW/4YQ/4fnft//wDD5f8A4Zi+z/8ADHf7Kv8AwzV/w2l/wrD/AIV1/wAIb/ZGtf8AC1v+FV/8LJ/4pr/hIf8AhOPt39kf2D/xWP2v/hLf7A+b+16APxx8D/D/AOE/i/8A4IueEfhX4d0bUm+Bfij/AIOG9B8A6D4c16HXtO1h/hLrnimx8OaXo+uQeICPElhqH/CHzwWt7a69/wATm0vPtP28fbvtgoA/dz/gtJ4U/ZM/Zo+JP/BMb9j7wH+y/wD8E2fgf8MvH/xU+NPjzTfib+2R4K8VeGv2EPgpdaF4J0vQ/GWteJPgf8LvFnwo+CPxI+NHifw/4iFz4Buv2gTrHhq81rQho17d6Nf+IrXxfowB+EPwbs/D+gf8Egv+DkLwh4K+MngT48eBPDX7QXwjsPD3xU+E3wr8G/Az4R+PxYeJdD0q+8YfDr4O/DdbX4beB/D+vHSofsVp4FVvDl7Y2OmXug3l9p93ZXlAH6sfGb/gnB+w94Q/4Kb/APBAT4S+FP2ZfhB4a+G/xS/Zu+N938afB+ieA/DWn6H8eZPh/wDDD4deIvDZ+O1hDpYtviyTr+qTatrR8ZjWrvxHem3XXjfaeBaUAfo7/wAENvAfgn4Oftmf8FyPg38KvCfh74dfCjwP+294Mbwb8O/BukWfh/wb4TTVvhlFPfWfhrQdOtrTTNE04+TbqulabbW1jZW8FtZ6faWtlaqtAH9JlAH5A/8ABff/AJQ2/wDBQn/s3/WP/T5oNAH37+yf/wAmsfs1f9kC+Df/AKr3w5QB9A0AFABQAUAFABQAUAFABQAUAFABQAUAfkD/AMF9/wDlDb/wUJ/7N/1j/wBPmg0Afztf8FFvi1+3J+0l+0t/wSv/AGXP+CbvwE+Hv7U/xK/YA/Zu+Cf7bXxK+G/xE8Q+HdE+H1n8QPEXw/0Twd8MT45vfEPxZ+DunXB8MaNfT6/o2h2fjaz8SG88R214N2ni8tLwA95/4IRfFP8Aa+/Zn/aO/by/4J4f8FAfgr4X/Zq+K/xu0jxr+318GvhV4R8XeGvEHgiyh+I2pa5Y/FvQPhjcaB4/+K9sfD41eCw16z0H/hYHiPWPDgg1QXtjaWQBIB+WvhT9ir9lO7/4NY/j/wDtXXnwA+F11+01b/Fv4s+MdK/aBm8JaO3xk0LVfC/7Vp8DaHDofxMt7W08aaPoFp4e0qC1/wCEYtdY/wCEdumuLm+v7C6N3dmgD6//AOCiPj74MfGb9s7xF8HPi5rv/BOT9mHVPh5/wTG+COu337Xn/BRPwTqP7T/xU8UxeI/Dl74r0vQP2NP2e/jf8SNI/Zd0/wAXrrFve6Z4n1228J6z8SdZvNVur6w/4SW+tBotmAfLX7Pupajqv/BBj/ghK2pX1/qDWf8AwWZ+F+m2b319Ndiz02x/ag+IEFjp0BuN32fT7SH/AEe0tB/odsOBtyoAB9z/APBSn4pfEP8A4JyftOf8FGf2Ofhfa62tz/wW30T4WeK/2SZPDemT3kXhX9of4i6xon7PP7Sf28W9v9n063Phe+0vx59pck7oQv2wNdWdpZgHT/8ABb67/Yu/Yq/ZP/Yi/wCCWngv4Q/se+Jv2s/G3wu8HfAD4QfHf9rbwF8E9T8PfsrfBG3mstD+I/xx1f4q/HDRP+Ec8H3+rahb63d6KR4isrz/AISSXUvFi2V7relaRZ6yAfI37fvwU+AX7MH7B/8AwSQ+AP7CHx3/AGJv2iP2R/BX7Yt/ZftMfFr40/E27+Jn7Evjv9pTU/CNtruh6z+17qnwR8ReIjp/w+utWl166Hhe5vF0jw3Yf8I1ZX9qdOtWuWAOd+GPhTxJo/7Hn/BxH4g0L4t/8Ey/EPw18Tfsh+FrnxX8If8AglHYftByfsoeAPi3Y+GdQsbHxB4N1z4g/DjSfgp/aPinwPB/xVOhfBz4r+LzZ6zZ297r3hbw5e3Ra9AP6zv+CPf7JH7NP7Nv7DH7L2v/AAO+B3wt+Gvi74k/s2fBLWPiZ478JeB/DWjeP/idqtx4OtvERvPiN440/TrbxJ44uLTWPEmuXNg3ifVdWNh9vuRYfZVYigD9WaACgAoAKACgAoAKAPNfGnwi+E/xJ1rwH4l+I3ww+Hvj/wARfCrxF/wl/wAMde8a+CfDfinWfhz4tEBs28VeAtT17TL3UfB/iI25+zf25oFzYX/2UBPtewmgD0WSNJUaORVeN12ujr5iOh7Hscg98/Q8GgDzr4ZfCX4VfBPwqngf4NfDD4ffCPwSmraxrieD/hl4M8OeAfC6a14hv5tT13Vx4e8LabpWljUtc1G4n1PWNR+yfbNRvZri9vna7LNQB5/on7JX7K/hn4y6v+0b4c/Zl/Z+8P8A7QmvPqMuu/HjRvgz8ONK+MmtTapZw2GqSat8TrDw5beNtQOp2EEFpfNda/IL60iW0vdyKFoA/Jv9v79jH/gqV8Sv2t/B/wAfv2VvEX/BL348fDHwl4ftJvh38Hf+Ckn7O15rep/syfE+wm0Oa4+IfwC+Lfwa+G2rfFq41jxTPpS6nfNr3jjRrPw1d29utho+ssbG+0YA90/4J1/8Es/CX7Mf7KVt8Hv2qdN+C/7T/wAVPFf7RPjX9r/4ma3qXwx07Wfhvof7QfjjxLN4pg1n4VeHPH9t4hutI/4V3cGDS/BnjM22i+Jbk28+vCw8OXd6dIswD9E/jP8As+fAX9o7wzaeC/2hfgj8Ifjz4P07VY9esPCPxm+Gng74oeGrPW7eK4t7bV7LQ/HGia9pltq9tbz3FumpW1qLxba4uVVgt0RQBympfsg/smaxYfE7StW/Zd/Z31TTfjVbeGbP4yafqXwT+G95ZfFu28E2tnZeDbT4m2Vz4bkg8f2vhTT7GxtPDNv4pXV49Fs7G2stOWzS1RVAO41D4IfBXWfF/wAO/iFqvwg+F2qePvhDpeq6J8IvHOp/D/wpeeL/AIXaPrllbafrejfDrxHc6Udd8Eadq2n2FlZ6vp3hm80mzv7SytrS8SSO1UKAX/B/wh+FHw98SeP/ABj4A+GPw98E+L/itrdr4m+KHirwh4K8N+G/EXxK8RWVp9hstf8AH+uaLplnqfjHWbTTx9jtNV8QXd/exWv+hrdKhIIB6XQB+QP/AAX3/wCUNv8AwUJ/7N/1j/0+aDQB9+/sn/8AJrH7NX/ZAvg3/wCq98OUAfQNABQAUAFABQAUAFABQAUAFABQAUAFAH5A/wDBff8A5Q2/8FCf+zf9Y/8AT5oNAH1L+xR8Dfgr4I+EHwp+L3gz4P8Awv8ACHxa+K/7PvwJi+KPxQ8MfD/wpoHxF+JEOhfDPwzZaHF4+8c6Ro9n4l8YpodtDDaaKuv6pfCytY1WxKqoAAPoDXfgd8F/FPxJ8O/GLxR8H/hf4j+Lng/QdV8L+E/ipr/w98K6x8SPC3hnXluIdb8NeHPHOo6Nd+JNF8P65DPcprOkaZqtpY363M4vbR/tTAAHLxfsrfsw23wcv/2dbf8AZv8AgPB+z9q819c6r8Cbf4P/AA+i+Deo3Or64fEmqy3/AMMl8ODwTfTal4ill8QX0l1oDm81otrF4xvm+1kAl8W/su/s0/EDxh8N/iF48/Z3+BfjXx78GobW3+EHjjxb8IvAXiPxj8K7Wymhnsbb4deJNX8PXuteB7e0ngguLW38L3ukraPbwMoQjIAMyD9kP9k628MeH/A9v+y9+zxb+C/CfxK/4XL4W8JQ/BT4bReGPDXxf/tH+1/+Fq+HtBHhr+zNH+JH9sH+1B460y0tPEov2+3jVxd5agD8vPGn/BPL9rz9pv8A4KtfCD9rr9rPxp+zIP2Sf2LLvx7rf7G3wv8Ag/YfEe4+L/iLxb43sdO0yDxP+0JeeN9NXwpban4YWC4vLEeAtWvNIvLux0T/AIklhei61cgH6ZfGn9iv9jr9pTX9N8V/tGfsmfs0fH3xToumf2Fo/iP41/Af4W/FPxBo+imeW9Oj6Vrfjnwpr+o2GkC6nuLsaba3S2YvLidgu5mJALnhb9jr9kfwN8J/FnwF8F/stfs5+EPgZ4/lupvHPwV8LfBD4Z+H/hP4ynvorOG+l8VfDvSPDNp4P8QzXdvYWK3h1TR7trpbG13bvsybQDU8Nfsrfsw+Dfg9rX7PHg/9nD4D+FfgB4ki1mDxH8DPDnwg+HuhfCDxBD4jx/wkUOufDLTfDlr4L1aDXeP7aF5o90NWwPt4usUAeveG/DmgeD9A0Xwr4S8P6R4X8L+HNM0/QvD3hzw7pVnonh/QNE0mCGw0zR9D0PT4LXTtJ0jS7S3gtbDTbG1tbSzs4lSzQIuKAOioAKACgAoAKACgAoAKACgAoAKACgAoAKACgAoAKACgD8jP+C7+katr3/BIX9vXQtE03UNa1nWvgjd6To+j6VaXOpapqup3/iTw7Z2GnaXY2yXV1e6he3M0VrZ2ltbNc3V3IiRjc4wAfEfwR/4OB/2Kfht8F/hH8O9b+E/7dtxrXgH4Z+AvBGsXOlfsV/Gq40u61Twt4V0nRb640ua60O0uZtPurqxnayNzaWd0bQBns7Q/KAD1H/iI/wD2FP8Aoj//AAUA/wDEJPjD/wDK6gA/4iP/ANhT/oj/APwUA/8AEJPjD/8AK6gA/wCIj/8AYU/6I/8A8FAP/EJPjD/8rqAD/iI//YU/6I//AMFAP/EJPjD/APK6gA/4iP8A9hT/AKI//wAFAP8AxCT4w/8AyuoAP+Ij/wDYU/6I/wD8FAP/ABCT4w//ACuoAP8AiI//AGFP+iP/APBQD/xCT4w//K6gA/4iP/2FP+iP/wDBQD/xCT4w/wDyuoAP+Ij/APYU/wCiP/8ABQD/AMQk+MP/AMrqAD/iI/8A2FP+iP8A/BQD/wAQk+MP/wArqAD/AIiP/wBhT/oj/wDwUA/8Qk+MP/yuoAP+Ij/9hT/oj/8AwUA/8Qk+MP8A8rqAD/iI/wD2FP8Aoj//AAUA/wDEJPjD/wDK6gD4A/4Kn/8ABar9lz9sH/gnj+1x+zP8IvhB+26fiX8YfhBr3hbwVF4q/Y6+M+iaHda8Z7HVrGzvtVg0S9OnDU/sH2Wxurm0+xfbLm2+33VnY/a7y0AP6fP2T/8Ak1j9mr/sgXwb/wDVe+HKAPoGgAoAKACgAoAKACgAoAKACgAoAKACgAoAKACgAoAKACgAoAKACgAoAKACgAoAKACgAoAKACgAoAKACgAoAKACgAoAKACgAoAKACgAoAKACgAoAKACgAoAKACgAoAKACgAoAKACgAoAKACgAoAKACgAoAKACgAoAKACgAoAKACgAoAKACgAoAKACgAoAKACgAoAKACgAoAKACgAoAKACgAoAKACgAoAKACgAoAKACgAoAKACgAoAKACgAoAKACgAoAKACgAoAKACgAoAKACgAoAKACgAoAKACgAoAKACgAoAKACgAoAKACgAoAKACgAoAKACgAoAKACgAoAKACgAoAKACgAoAKACgAoAKACgAoAKACgAoAKACgAoAKACgAoAKACgAoAKACgAoAKACgAoAKACgAoAKACgAoAKACgAoAKACgAoAKACgAoAKACgAoAKACgAoAKACgAoAKACgAoAKACgAoAKACgAoAKACgAoAKACgAoAKACgAoAKACgAoAKACgAoAKACgAoAKACgAoAKACgAoAKACgAoAKACgAoAKACgAoAKACgAoAKACgAoAKACgAoAKACgAoAKACgAoAKACgAoAKACgAoAKACgAoAKACgAoAKACgAoAKACgAoAKACgAoAKACgAoAKACgAoAKACgAoAKACgAoAKACgAoAKACgAoAKACgAoAKACgAoAKACgAoAKACgAoAKACgAoAKACgAoAKACgAoAKACgAoAKACgAoAKACgAoAKACgAoAKACgAoAKACgAoAKACgAoA/L3/gtB8VfiP8D/APglt+2n8XfhF4z8QfDv4lfDr4PXfirwV438K30+ma74d1/SvEGhT2N5ZXEB6Ehra9trkPZX1nPc2N/aXdhdXVo4B8BfCb/gl1+3V8T/AIW/Db4kj/guj+37oY+IngHwd45/sUaF8HtT/sg+K/Del66dM/tT/hG7M6gdMa+Nsbv7HZC98oEWlpkgAHf/APDn79uv/pPN+39/4SXwe/8AlLQAf8Ofv26/+k837f3/AISXwe/+UtAB/wAOfv26/wDpPN+39/4SXwe/+UtAB/w5+/br/wCk837f3/hJfB7/AOUtAB/w5+/br/6Tzft/f+El8Hv/AJS0AH/Dn79uv/pPN+39/wCEl8Hv/lLQAf8ADn79uv8A6Tzft/f+El8Hv/lLQAf8Ofv26/8ApPN+39/4SXwe/wDlLQAf8Ofv26/+k837f3/hJfB7/wCUtAB/w5+/br/6Tzft/f8AhJfB7/5S0AH/AA5+/br/AOk837f3/hJfB7/5S0AH/Dn79uv/AKTzft/f+El8Hv8A5S0AH/Dn79uv/pPN+39/4SXwe/8AlLQB8Zf8FEf2KP8AgoB+xH+xJ+0r+1foX/BbP9u7x/rfwN+F2r+NdI8H6rpXwm0PS9b1S3mt7Gwh1TVbbw5e3UGn293fQ3N6LW0F5eWlu9it7ZfalvLQA/pX/Zl1bVdd/Zw/Z+13W9S1DWtZ1v4JfCvVtZ1jVru41LVdV1S/8CaFe3+oare3DXNzfahe3U811eXdxcNc3V3I7yMWkJoA92oAKACgAoAKACgAoAKACgAoAKACgAoAKACgAoAKACgAoAKACgAoAKACgAoAKACgD8gf+C+//KG3/goT/wBm/wCsf+nzQaAPv39k/wD5NY/Zq/7IF8G//Ve+HKAPoGgAoA86+KHxX+F/wS8F6v8AEr4y/ErwD8JPhzoDWv8Ab3j/AOJ3jHw74C8GaEL67gsbE6r4q8U6jpWh6cLu+nt7O0F3eIbu8nt7RMyOqkA7e0ure+tbe8s7mK8tLuKO4tLu3liuLa6tpolmhmt5od0E9vcQndHcBtrKwKEgggAvUAFAHmfxE+MXwk+EMXhe4+LXxS+HXwtt/HHi/Rvh94MuPiL428NeCIvGHj3xFMbfw74J8LTeJtS0pfEHi/XblPs+ieGdL+16zrD5Sxs7o5WgD0ygAoA86+KHxX+F/wAEvBer/Er4y/ErwD8JPhzoDWv9veP/AIneMfDvgLwZoQvruCxsTqvirxTqOlaHpwu76e3s7QXd4hu7ye3tEzI6qQDt7S6t761t7yzuYry0u4o7i0u7eWK4trq2miWaGa3mh3QT29xCd0dwG2srAoSCCAC9QAUAfkD/AMF9/wDlDb/wUJ/7N/1j/wBPmg0AfSfw9/aO/Z5/Zq/Y8/ZU8WftHfHb4NfADwtr3wa+DXh3RPE3xr+KPgr4V6Bq+vN8LNK1Q6Hpet+ONa8PabqWsHTtPv8AURplrcG9+xWV1ei1CWrkAGl4F/4KR/8ABOz4oeLtA+H/AMM/29/2LviJ498WalFo/hTwV4F/ak+B3izxd4m1i4B+z6X4d8OaB43vtZ1rUrkbitnpdndXTc7UIBIAPtmgDzL4f/GD4S/FmTxnbfCv4p/Dr4l3Hw68Xah8P/iHB4A8a+G/GU3gTx7pMNtNq3grxjF4f1LVT4W8XaZb3tnc33hnXVsdZs1uLZryzRblWIB6bQAUAFABQAUAFABQAUAFABQAUAfL37an7Rrfsg/sk/tG/tR/8Id/wsE/s/8Awe8efFn/AIQb/hIT4T/4S0eCNBvtcGgnxR/YniM6CdUFkLX+1P8AhHtYFoZd/wBgu+EIB5R+zV/wUD+CHxq/Zr/ZG+O/xP8AGfwq/Z18Vfte/BbRvjH4G+D/AI8+MnhCLxBNbTeCIPiB4x0fwpe+IoPBGpfEC38B+Hzc6n4m13SfCtktjpFnc63qFhpNiMgA9o8I/tffsm+P/hV4u+PHgT9qL9nbxr8DvABvz46+M3hH42fDbxH8K/BQ0mC3vtUHi74i6N4lu/CPh4aXa3tvc3w1fV7P7Ja3EEl5sW4ViAO8HftdfsofEP4kWnwb+H/7Tv7PPjn4u33hi08Z2Hwq8H/Gn4a+JPiLeeDr3SLLXrHxZZeB9H8SXnia68M3mgarp+uWWv22kvpN1pF9aagl6bK7tnIB3nh/40/B/wAX+IviR4P8JfFn4aeKPFvwcvLWw+LvhXw5488La14k+Fd9faadWsrP4jaJp2p3epeBrq70gf2rZ23ie00l7qwBvkBsyXIB+av7aH/Baz9h39kP4NfBj4zad8Z/g58eNE/aA+Lfh34WfDGb4Y/Hr4Q3nhvU7SbxfZeFfiN8SL3xhb+JdUtf+FcfBwz3D/ETxBoFl4jXw5rB0zQteXSDqv2+yAP1C8NfEbwD4z8BaZ8VPBfjbwt41+Geu+HIvGfh/wAfeDte03xZ4O8Q+E7iybVbfxH4d8R6Bc6ppmv6Nd6fi7stS0m6vLS8tdrWTFSCQD+T7U/+DqfxbPr2v/Fj4f8A/BIn9sr4i/8ABOzw34wv9K1L9vHRD4qbwoPA/hzVx4c8ZfEGDQ9P+COr/C1bbRPEMGqWllpGpftC2X2u1trX+3dX8M63eXnh7SgD9cP2jf8Agt3+xB+zp8R/2Jfh7rvxQ+HtzD+2kumeLdP8ZeIfi18OPh54X+DPwW1fwfe+KtD+L3xaPivXbTWvDHh/xTcQRaB4K/tPSLHRvEmrwa3YjxLY32kGzvAD7h8QftwfsV+E9Xv/AA74q/a//Ze8Ma9pnjPw78ONS0XxB+0D8KNG1fTfiD4x02XXPCHgO+0vUfFltdWvjLxTo0M2q+GfC1zbrrWtaRC9/p9ld2gZ6APEvgZ/wUC8J+MPDv7WXjr9omX9nv8AZl+HH7MX7RPiP4Iv8Rb79s74BfFDwhq+iaTFoQ0nxh8TNb8L6npWm/s8eL9dv9cXTG+DfxRu7Lx3o7f2c9+P+JvZAgH034M/ai/Zm+I3xO8S/BX4eftE/Avx58ZPBdmdS8YfCXwZ8Xfh94o+JfhPT/8AQR9t8SeAtF8R3vizQbIDVNPxc6rpNpbf6faZYC7tA4BB4o/ar/Ze8E/EbVfg/wCMf2kvgJ4T+Leh+D774g658L/FHxk+H2hfETRvAGlabPrmq+N9V8Dat4jtPEuneD9N0WC51a+8U3WlpotnpNvcX95erZ27PQB+an/Bbvx54H+J3/BED9uT4hfDbxj4T+IngDxf+zZf634T8ceB/EWkeLfCHijR77WdDNjq/hzxJ4fu7zRtY067BH2LUtLvLu0uv4WYdAD9Lf2T/wDk1j9mr/sgXwb/APVe+HKAPoGgAoA/Aj/g51/5Qsftef8AXt8M/wD1afg6gD9s/hrPHa/CrwDcOP3dv8PvC077f+ecHhywlOPwBx7n8KAP4F/ij/wcvfG9vGXxe/aY8M/8FDvhH8Kv+FVfHjVfCfw9/wCCRurfsVeNvG0Hxo+Cvg/xVB4XvvEnjD9tK38FG48H/E/xh4fn1bxjY6TpXjXR/DFhrGiaNp17d6NZXd7YXgB+yv8AwV0/4Kl/tg/8E2vEP7Pv7bvgXxB4a+LP7E/7VHwRv/AGifs4eM3+FngfW/hZ+0v4h8Bz+Ofg98SbDxtP4c0rx94n8D6qywW3xM0nVPF19o3hrR4NZ1CztLF7rSNoBjft2+K/2yPgT+xP/wAEjZf2q/in8Lf2hv2mPib/AMFHf2QoPjL4s8W/s+/syeOPB/h7/hYvij7ffeFfhNpOo/By58N+Fm8BwXEOg+F/jH4X0rSfip9rguNf03xpZtfWgtADrPih8ev+CuH7eX7Xv/BQf4cf8E/v2pvh1+x54B/4Jz6roPwx8OfDrUvgH8Mvjh4v/a4+MmreD4fHE9p448X/ABXNrovwe8H3VzB/wi/hnVPC16bu0tL+5v8AxDZNefZbzSADqv8Agpd+2v8Atr/BTwB+w98H/EH7ZHwG/YT/AGpfjb4M17XPipof7O/7N3xO/wCChP7RXxL+KnhrRIDpnwq/ZY/ZtufhfqnhPUvB3inXpr601nx38T/Fvg86TrcWmaH4f1vWLOz1fV7wA/Gb4sf8FBf2k/2+v+Dbn/gpndftU3Wo658Vf2b/ANpew+AF1428UfDDR/gf8SPGej6F49+GPiKwvfi18HfC11e+Evht8StLHiKbQfE/g7wxdXek6NeaWLA3l7fWl3rN4Af3bfCz/kmfw7/7ETwj/wCmGxoA72gAoA/IH/gvv/yht/4KE/8AZv8ArH/p80GgDrPFP/BPn9kP/gor+w1+yD8LP2yPhH/wuLwJ4K+GPwY8feGNC/4T74m+AP7M8Ww/CCx8OLq/9q/C/wAa+Cdbv92ka5qtp9k1G+u9KInF4bL7Zb2t0oB/H1+xv+zh+wj+wv8AsHfts/8ABUay/ZT034hftW/sY/8ABRD40/CH9kbUte+LHx3svDvh3WtO+Kfhz4Z/A/R/EfhzSfilpPhzxBoPhnUPFUJ1m58T2V7rGsWcJXW9ZDFNXtAD9zl+P/8AwVd/4Jw/HT9g3xB+2/8AtmfC79t74Gft9fGfwz+zx4w+HWjfsy+CfgPrH7MPxG+IHhy+8VeFdT+FXjH4fXTaj8UPC2mXNlf6HrVz8RrP7feaNpVs1lYWet6rdaxZAH4l/s6/8FPPiV8B/wBsX9uX/gm9+zp4u0v9nz47/tjf8Fj/AIhLd/tk/E7wx4c8T/Cf4C+CPFVnY+HNKsdE0PxAdV0vxT8b/HmseANb8MeC/D/jTw9Z+Dftt7aMby7a5uz4aAP08/4K3/8ABX34jfs0/tmfD/8A4J+WX/BSHSf+Cd3h/wCGn7P3hf4q/Fn9tHxn+x1D+198SPjZ8RPEUM2leG/h1pfwg8H+ALz4f+ENH1PT4Lzxr4z1/TfCvhpbXWF0/T/CrWWnW174c1YA4Txf/wAFtv20fjD/AMEVPhb+1d+z18Q/h3oX7Vln+3n4E/ZF134j2Pw3tf8AhVfxitB40uNFsPFQ8DfEbw1q2p+EPD3xZ8P3/hXVvEtppuk6R4t8Mtfa1Z6D/wAI1eCzs7IA+5fhV8ff+CpH7LH/AAVp+HX7G/7VP7Vfwy/bW+G37Wf7NXxq+OngHRfD37OXg/8AZwuPgd41+Geo319b+BPBtx4Y1rxDrXiLwhdefB4Ys9W+KHjfxj4ivdIh02/v7zR9bstYvPEgB+af7Gf/AAVU/wCCjHj/APbB8D+DP2mP+Ci3wQ/Zv/aCv/jndaR8Vv8Agkj+2/8AsgD9k/wtpHwm13WbfTNDj+AP7ZOk+EfG3iT4keP9U0/XNDf4L+F/FWraPrXxI1o3BK+IvDCWl5rIB/cHQAUAFABQAUAFABQB+Yn/AAWn/wCUSf8AwUb/AOzOvjx/6ger0Afy/wBv8Gfhf+0FF/waHfCX40eCPD3xJ+Gvij4D+I7nxN4G8Y6Vaa34W8Tx+FP2bvD/AIx0rTPEOhajbXema1ox1fQ9LN7pWpWt1ZaxaQmx1Czu7K6IIBn/ALSPwa+Ff7Ofxa/4Okvg/wDAXwD4X+D/AMJYf+CefwH8YWPwv+HelweEvh1pHiLXPCmuT6rqWh+B9GFp4a8P/amM+bTQdMsbEC4uWFoPtV4GAPGvGH/DqL/hgT/gjr/w7j/4Zx/4ea/8NIfscf8ACN/8KN/4Rv8A4az/AOEy/teD/heH/C/v+EV/4uj/AMIvu/t37Z/wuP8A4pr7H9l/sL/iX/ZKAP08/Z9/bE/Zc/Y//wCCk/8AwcNaD+1R8ffhb8Ate8Z+JfhJ448F6T8UfFeneELzx/oEH7Pc8E8/w6g1i4tLnx7q32m/t7X/AIRjwcdX8SF57VBo25gKAPxH8DfDn4Kax/wbh/8ABJ34nfFXwF8MNSg8Gf8ABTqw8N+IPiH8QvDHha9h8K/B/wAVftQ/EGb4m6FrfirxDp8g0f4ceJ7bSbF/G2l3N7aeG9Xs9KtTrlneCzBAB/oW+D9T+Ceifs46Rq/7P/hvwT41+AOl/Cj+0fhX4P8A2dLDwTqvgTxV8ObLw5LP4d8N/BzS/C9/pfw/1DR9c0aCDSvBlnpOqWXhq7FxaWdpeWlk6uAD/Od8VftZ/sC/sz6H4z+On/BJr/gtT+2//wAE7PGOlQ/F7x7pn/BLL4/fs3fFn4qfDaw+NOq3uqwj4ejRNH03xF+zL8PrDUjb22mWl14ysvjxe+GSdNvr/wAT2d/pJ0ixAP1t/bg8TfBH9oP4of8ABuB+2h/wUK+B37OHwvuPj5Z+KLn9rDWPj74K+G+h/D6bw4fgwviPw54V+Keu/E+2bTv+EGtfEOuz+J/Bng3x7q13aeG73xFxZWet3d0GAPrb/gm3+yV+yv8AG3/gsx/wWp+MPxO+B/wg+Lnij4S/Hf8AZph+C2v+OPA3hPx5p/w5hPwy0vxTpfiT4awa9peq6b4X8QW2o6Hod1o/irwwLHWbNLC0+w3qxgYAPyX+Of8AyiK/4OWP+0snif8A9P8A8DqAP0r+P37Gv7LP7H//AAUj/wCDd3Vv2X/gX8NvgPrni3xL8UfAvjvX/hV4V0rwPqnxH0Kw+AVhfQn4jX3hi10r/hYOs3FzPc3N7r3ioavrV219d5vtt0QwB+Zfw60z/gl9rP7FP/BaXT/+CgenfAvVf+Cls/7Tv7ZsiWHxqtPC93+2NNrVsJb34Lt8A4NZ/wCLsHwxbNb2N0P+FSk+El0mHUxrYHh/zCAD9VfFX/Knha/9o3fBv/o7Q6AP6Wf2T/8Ak1j9mr/sgXwb/wDVe+HKAPoGgAoA+AP+CnX7Drf8FG/2LfjB+yB/ws8fBwfFRPCyD4hnwUfiEdC/4RzxTpPiQ/8AFK/8Jb4H/tE3Z0oWef8AhI7EWnn/AG3/AErZ9lYA/Gr9l3/ggp/wUP8AgD8dvgv8UfG//BwJ+2d8cvh38LPG3hjxD4i+BHirTPjja+CfiN4Y0K5iNx4E1uDWP21vFmiW+gatawf2a63XhLWrNbUY/si7UBQAe9W//BEP45fD7x5438I/sx/8FVP2k/2X/wBg34rfGfVPjh8RP2Sfhf8ADvwVpXxHtvFHirxCvijx/o/we/bD03XNA+LXwW8H+KNYtrcrpXhjR7x7LSG1Kwe91Y6q94gB79+1N/wR38A/tzftVRfGP9sH4pTfG39njwR8APEnwZ+Bn7JOp+A/snhr4aeLvHFj/ZnjH48a54/1Lxr4h1P4gfFa5tvJHhjXV8O+Ebzwc1hot7ZX15qFk17dgHjsv/BFv4q+I/2P/wBiH9k74o/t0XnxNb9hv9rb4VftB+AfitrX7P4t/FPir4Y/B3xFPrngj4J+KrBfjZd276jpWmzf8IvafFAXjf8AEm0/Sxe+CL6+tGurwAP2pv8Agi38X/HX7Qv7Rfx4/Yf/AOCh3jz9g62/bV8MWPh79sn4cWXwC+H/AO0L4V+MF5YaI3hSHxT4Om8ceI/Duo/BjxRqPhe91TTvEmu+Fmvr6+vb6HWrG60h47y0vgC98WP+CKXjyPWf2I/iH+x3/wAFCfjh+zB8b/2M/gdqn7NKfGjx/wDDzwR+1d4o+LXwY1w2E+p6X4p0r4oalo/hqw8UNqFj9psddXStW8OaLaG0sNC8FWNpo+jizAPG9P8A+DeSLRP2FP8AgoF+w5Y/toeKtf0v9uX9om0/aET4xfEX4M6Z4k+IngfXp7zwdf8AiSz8YweHviR4J8OfFLUtf1Dwn9tOuaVpnwrtLO61a6/4kd2FRAAf0Y+FtEPhrwx4e8OtcfbDoOh6Togu/J+zi7Glafb2Kzi3M9x5AuPIVjbm4YKSw3tyWAOjoAKAPyB/4L7/APKG3/goT/2b/rH/AKfNBoA+/f2T/wDk1j9mr/sgXwb/APVe+HKAPzX+Dn/BF74SeGf2L/2yP2Ifjl8RtT+NPw1/bG/aA+Nnx01/WNA8Jw/DDxD4Dm+LfiSw8UaTpvhua58SfEK3uNf8BavpdjeaR4pu9tnq13CPt/hb7AbyyuwDzv4D/wDBG/432Xxx+AnxQ/by/wCCkHxN/b68C/se6gPEH7I3wf174FfDj4F6P8OPGdjYf8I7ofjz4qeKvAGuavrfx68YeGfDEFvaaLrvjD+ybwa1/aWuX32ware6QQCm3/BB/wCHWtfs9f8ABRz4FeNfjP8A29qn7dv7VHiP9rHwT8UdI+FcXhvxj+zV8QJ4dDn+Hc3hyZfH2r3XjDUPhzr+l3uqWOu2ureAzeWmu63p1lY6J9tur1gDq/j/AP8ABJn9orx98RPgj+1R+z1/wUU8Rfsp/t6eCvgHoH7N3xx/aJ8Nfsz/AA9+KXw8/aO+H+kwm/ubzxF+z58SvG2q6Z4Y8UnxesWu6Lrv/CwfEo8N2M2paNZWd3eXtprNiAb/AMbP+CQ2vfGz9iT4IfsjeL/20PjR4+8Z/DD9pD4XftK+Mv2jfjtZal8aPG/xL8V+BfGDeMtc8OWeiah488O2vw98I6rdTvpXgzQNC1i90T4beHLezsbLR/EbwXl5egH0d8ZP+Cfsfxe/4KGfs5ft3T/Fy88OwfAP4C/Gb4GS/CvTfCl1FqPimH4wHbN4qsPinp3jXSNS8H3vh9WP2O1tPCmrXl1dhbyz1nSJFzQB+bXjf/ghR+0z8YdV8F/CX4/f8Fff2iPj1+wR4D+Nnh34x6J+zb8Ufgl8MfFH7QFzN4N1i48UeD9B1z9uvWNbvPjDrB0nxDPtvdduPD32288IG48MWFro96LLxDYgH9IEUawxRxRf6uNY0TcxfMY4HPfjgHofoMUATUAFABQAUAFABQByHjTwV4O+JPhPxH4C+IvhDw1488CeMNHv/D3i3wR400DTPFPhPxX4f1a3ey1PQfEnhzXrW80XWtH1O1lltr7StUs7uzvLaYpeWzKSpAPO7L9mn9nPTZ/g5d6d+z/8FdNuf2eLC60r4AXFn8KPAlrcfAzS77SB4evdM+Ds9voYb4YafdaAP7CvbPwYdFtLrSANPdTZ5SgD5Q/4KCfsIeH/ANpv9lX9tn4ffBLwJ8D/AAL+0t+1r8B9U+EOp/GXX/DFn4Y1TxPNDZNZeD7T4o/EXwf4R8QePta8MeGPNn+wW11ZeJv7HWZhptgAWFAHbfsl/sOfBj4AeCvgR4k8Q/BH9n+f9q74b/AL4Z/Brxh+0P4X+GfhWX4jayng/wACaH4N1XTrD4tX/hTSPiVqPha6g0cWtla6rdWfmaPDaLe6PZgGzQA9s8c/srfswfE/4l+HPjP8Sf2cPgN8QvjB4MtIbDwf8V/HPwg+H/i34j+E7CA3s1vaeG/HGv8Ah298TaBbQTX9+VtdK1W0RfttyxUG5bIBm/8ADHf7I3/Ck/8Ahmb/AIZZ/Zz/AOGcft/9q/8ADP8A/wAKP+GP/Ckv7U/tz/hKv7R/4VX/AMIx/wAID9v/AOEm/wCKg+1/8I/9r/tz/icb/t/+l0AeweBfAfgj4YeD/Dnw++Gvgzwp8PPAHhDS7XRPCfgXwP4d0fwn4Q8L6NY7lstI8O+G9BtLLRNG021UAWenaZZ2lpajO1ACBQB8/eJ/2D/2H/G3xYPx38Z/sZ/sp+L/AI4tr2h+LX+Mvif9nf4QeIPiu/inwv8A2cPDfiX/AIWLq/g+78Xf8JBoH9kaSuiat/a/2/R/7L077Bd2n2O0KgHovxt/Zx/Z5/aW8P6T4T/aO+BHwZ+P/hfQdZXxFonhn41/C/wT8VPD+ka+tle6Ydc0rRfHOh+INN07WBp2oX+mjU7S1S9+x3tzZi6KXTggGv4E+CHwX+Fmu+MvFPww+EXwx+HPif4jTaLc/EHxF4E+H/hbwhrnj268N6YNE8NzeMdV8P6Xpeo+J7jQdGhh0rRn1y6vzpGkQrp9g1rZgJQBxd9+yT+ypqfhH4lfD3U/2ZP2fNR8B/GfxdJ4++MXgm/+DHw5vPB/xX8d3E1jPN41+Jfhu68NvovjnxfczaVpbv4g8UWmrauX0/TmN7m0tioB3PiD4L/B/wAXeI/hx4x8W/CX4aeKPFvwcvLq/wDhD4q8R+A/C2t+JPhXfX+mjSb29+HOt6jpl3qXga5u9IH9lXlz4Yu9JkurECykJsyEIB/FV/wVuu/27/2K/wBp3xbpfx4+MH/BNS5+Cf8AwUQtPir8EPhr/wAFLP2iv2NdT079pb9mP4X+ItB0/Qtd/Z2vfiL+zR8OLYC40Pwr4pvrr4Zan8V7Pxd4a8Y2mh6zqXi3xR4RsNJ1iy0cA/Wn9vz4b/Bz4O/8G0Pxx+Ev7PvxK8OfGP4O/Db9iHR/BPgb4oeE9d0zxJ4f8d6Z4cn8OWEniXS9V0jWfEGmTW2q39vdXRtrTWdWWxM508Xri1L0Aft7+yf/AMmsfs1f9kC+Df8A6r3w5QB9A0AFAH4P+CP+C53ww8b/APBXTxT/AMEu4fhLPYeHdHk8R+CNA/amn+IRk8LeLfj/AOEPCGh+OfEfwO0rwY3gK101tf0nRdSv0u7y0+Jl9qq6hpcFk3hdBerdWwB+wnj747/BD4V+IvCfhH4n/GX4U/DbxV49i8R3Pgfwx49+IXhDwh4g8aWvg/RpvEfjC48KaH4h1nTNR8QweFtBgm17xNcaVa3q6Lo0FzqOo/ZLNftIAKXwb/aG+AX7Rfha98c/s+/HD4RfHXwRpupXGi6l4w+DvxK8F/E/wtYaxZwQXl3o994j8Ea5r2jWuo2tpPBc3lncXS3aW1zbu64ZSQDkPhB+2P8Asi/tCeKtc8B/AT9qj9nD43+OPC9ncaj4n8G/CH44fDL4l+K/DdhbX8Wk3N7r3h7wd4l1jWtHtbXUZodMubjUrSzSO8kWyZvtbBAAfGv7HP8AwVb+E37THir9pTwl8S7f4efs06v8FP24PGf7EPw2s/Hfxx8N3GoftCeNvCuhaJ4itbrwNpXiHw58P7k+J9ettXnNl8OtCHjHVxaWDXy6vd7itqAfoP4w+OfwS+H3i3Qfh94++MPws8D+PvFfh7xP4t8MeCPF/wAQ/CHhnxj4k8J+B7Uah4y8S6F4c1nWbPWtX8P+DrAG88Ua5ptndWHh+zzd6ldWafMQDwHwL/wUj/4J2fFDxdoHw/8Ahn+3v+xd8RPHvizUotH8KeCvAv7UnwO8WeLvE2sXAP2fS/DvhzQPG99rOtalcjcVs9Ls7q6bnahAJAB6trP7VP7MXhz40aJ+zl4j/aP+A2g/tC+JIbWfw78CNa+MHw90v40a9DqFncanYS6J8LL/AMRWvjfUYbvTrK/vbNrPw/ci7s7C4vFZktJHIBQ+J37YH7JXwT1rxN4d+M37Uf7Onwl8QeDPD2g+L/GOhfE743/DPwHrHhPwn4o1qLw74X8UeI9L8U+JdJvPD/h7X/EVxDoWha5qtra6frGrzW+nWF7dXxW1IB73pOrabr+mabreh6lYaxousWFrquk6vpV7DfaZqul6hBDe2Op6ZqFq1xbahp93bTQXNjdWly9pdW1wrKWTbQBr0AfkD/wX3/5Q2/8ABQn/ALN/1j/0+aDQB9+/sn/8msfs1f8AZAvg3/6r3w5QB9A0AFABQAUAFABQAUAfm1+2z/wVC/Zv/wCCd/xH+Cnhn9reTxb8Mfhd8fjrWh+Cf2h10K48SfCfQfiF4dmt577wH8TJtAF54j8DXOp6Pq2l634Y1650i98N6xZWXi5tRvvDtn4Tvry8APu74f8AxF8AfFrwdoXxC+F3jbwl8R/AXimwi1Pwz428B+JdH8WeE/EGn3AO290PxFoF3e6ZqNqeQLm0unUsCM7lYAA7egAoAKACgAoAKACgAoAKAPgz9uD9kz42ftU6X8O9P+DP7bnxv/Yqu/BuoeJLvXtf+CGnaHqWqeO7XWoNKgsNJ12DxRPcaImn6JLYXF1ZsdIvNWF5fbdPv9Jsjq1nrAB+eX/Dn79uv/pPN+39/wCEl8Hv/lLQAf8ADn79uv8A6Tzft/f+El8Hv/lLQAf8Ofv26/8ApPN+39/4SXwe/wDlLQAf8Ofv26/+k837f3/hJfB7/wCUtAB/w5+/br/6Tzft/f8AhJfB7/5S0AH/AA5+/br/AOk837f3/hJfB7/5S0AH/Dn79uv/AKTzft/f+El8Hv8A5S0Afz3f8HAn7A37XPhj4VfAH9lLTf27v24P+Cmfx7/aF+KR8SfDr9l7Wvh14D12w8P+G/hnpk9v4p+NurTeD/Dd3rPheDQLjxhpfg6x1y6u/DWkGy8V+LL7UNcXQ/D/AIjsrkA+WdA/4IH/APBQz9gH/glT+3b8ff2iv2t9f+B/hfU/gBr+peJf2H/hT4ii8ceFfHFzfTaVYQf8Lv1Se4vfhhYazpLeQbP/AIV1pXjHWiPs39n/ABO8N7byyIB/obfsn/8AJrH7NX/ZAvg3/wCq98OUAfQNAHyn+21+054Y/Y1/ZM/aB/ad8XXFpDpXwZ+F/inxlaw374i1bX7HTriHwvoKhfmnuNf8Q3Gk6VaW0B+1XL3ioo3E0Af5z0Hwa/4L7fDX9jr4YftHah+wJ8LdL+EnwU/aO1n/AIKww/tN6V49+HaftD6zr/jVZ/GHjDUvEehL+0trus33hDxB4Q1RdM1Dwb/woiTxNaaLZ6e1/ZPqNjJeMAf0Of8ABQfUf2fv+Ckf7cv/AAbh+LPFHhTwp8VfgJ+0Zc/G/wCJF74J8QW+meK/B+vWsHwZsPHtv4a8R6XdW1xp2v6fpnibQoNM1zS9UtGtLxtLutPv7Mg3trQB8yeO9N+CX7BX7U//AAcqaV8KP2dtD/4UR4Y/Yf8A2bfFt7+zN8Mta8YfBT4calfeOPD+q6T4hlsf+FP6n4T1r4feH7m31WfVPE3/AAri78N3n9i/24NPvtIF5d3igHw/+x9afDvQf+C03/BE/wAQ/Cf44f8ABOHX9T+I3w9+Kz/ET4Kf8Evfg/4e+HHw1+B1n/wozxFDpXhX4sfFSHxb4u+Mfx18c+MYbL+1dcX9oDVbTxf4R1jw7qjWWhWQ8QNfXwB9rfC/9mjxV+0r+xb/AMF74fhiI4fjl8Bf+CwHxH/ao+BGpNGS9n8Vf2etN+GfxG0SGE2264Q6/p+laroAFvtB/tUH7bacXloAfZ3/AATV/aF+FP8AwU7/AGtv2sv+Cw3xLs7jTv2ZP2cv2UPDH7K/w/0/4gaC/wDwjulxar4Eh+LX7Xuu3OhXNrdjWbBbm9t/B7f6Ldi90aLUrGytb201XBAPzk/4JWRf8E0/23f+CnviL/goLd6n/wAE+v2M/hr8IfGknwi/4JtfsVeB9b/Zq/Z6+LHxL8YxD+y4Pjz8TvhX4N1Hwl4+8T+IdVv724bwVoHifw7eM17qttY6DZXlh4Ts73xGAfk3qXh/4j+N/hN+2XpXxs+Kf/BFT4SftDSftwfEe48WfE39qpP2ptT/AOCwvhT4t6J8YNHufCl78HrH4QeCPib8QNZ8ELqNjotn4K0r4cfD7xd4avPDjanZ6/orD7XtAP6ZtA/ZQ+DP7T//AAcTeJtI/bI+Evwu/aN1H4f/APBJn4Aa7daH8UPA2neO/h5efEW/8WTaH4i8VHwP8RfDrW9xOTPqp0ZvE/h2y1jRzfFzZ2V8MIAf1p2lrb2Nrb2dnbRWdpaRR29paW8UVvbWttDEsMMNvDDtggt7eEbY7cLtVVAQAAAgF6gD8gf+C+//ACht/wCChP8A2b/rH/p80GgD4d/Z7/4JMftueIfgF8ENe0r/AILj/t2eFdL134Q/DTWdN8MaT4W+Esml+GrHVPBmiX1noWky3GmG5On6VBNDpll9qJb7JbgEAnIAPYP+HP37df8A0nm/b+/8JL4Pf/KWgA/4c/ft1/8ASeb9v7/wkvg9/wDKWgA/4c/ft1/9J5v2/v8Awkvg9/8AKWgA/wCHP37df/Seb9v7/wAJL4Pf/KWgA/4c/ft1/wDSeb9v7/wkvg9/8paAD/hz9+3X/wBJ5v2/v/CS+D3/AMpaAD/hz9+3X/0nm/b+/wDCS+D3/wApaAP57v8Ag4E/YG/a58MfCr4A/spab+3d+3B/wUz+Pf7QvxSPiT4dfsva18OvAeu2Hh/w38M9Mnt/FPxt1abwf4bu9Z8LwaBceMNL8HWOuXV34a0g2XivxZfahri6H4f8R2VyAfYP/BAP/ggB/wAFFP2FPFmjfHT4+/to+Mv2cfD2pXVprPiT9jD4Ia7oPj7RPHTBLbNn8btV8S2vir4R2GoJBbHTL1vAHhzxh4mGj3zHwr8XPB+oqSoB/ahQAUAFABQAUAFABQAUAFABQAUAFABQAUAFABQAUAZS6Zpqapc6xFp9iurXVlZ6bdaolnCuo3Om2FxfXljp9xflRc3Nha3Gq6lc2VqXNraXN9qDxhXurneAfkt/wX3/AOUNv/BQn/s3/WP/AE+aDQB9+/sn/wDJrH7NX/ZAvg3/AOq98OUAfQNAHmHxY+D3wl+PHgrUvhl8cfhZ8OfjN8N9bn0641f4f/FfwN4a+IfgfVrnSr2DVNLn1Pwr4w07V9E1G40rUrO31OwuLqxJs763tryzIvLdGAB1F34T8L6j4XuPA2oeGtBvvBV5oc3ha78H3ekadc+F7nwxPYnS5/Dtx4ent20yfQG04nTDpTWhsmsmFmbX7ISpAPIfDv7J/wCy34RPwlPhT9mr4BeGf+FAvrzfAj/hHvg78PNGPwVPimK4g8UN8JP7M8OWv/CuB4gt729t9c/4Q3+xv7XS4uBqP2v7U4YA6pPgV8EoPF3xC+IcHwc+FsXj74ueH9P8JfFjxvB8PPCK+Mfid4S0q0m0/SvDPxD8Sf2MuteNvD+madc3FnY6L4mvNWsbGzuLi0s7RUnZWAPNvBv7E/7Gnw1t/A1p8O/2SP2ZPAtp8MPGGo/EL4aW/gv4CfCvwvD8O/iBrlnDpWr+OPA8GjeE7NfCHi7U9OtrbTb/AMTaAtjrF5Y28Fle3rWlsqgA8f8A2nfgL8c/BPwB+Lukf8Eufh/+xZ8Gv2ifjH4zk8UeMdf+M3gfX/B/w48Uap4os20rxx8SvGJ+B3hxvEfin4vNp0FidF1/xRpXiK1vLyxtF8RC+sLb7GQDj/8Agmh/wTm8G/sG/sGeC/2N/Flx4Z+L93qFh4r1j49arqfhu0ufCHxR8d/E29vdT+Ivn+HNZgura/8ACF0L0+HrDS9WtP8ATPDljbC/sbQXLWNqAeoeE/8AgmX/AME4fAXifQfGngT/AIJ+fsReC/GHhXVrHXfC/i3wl+yl8CPDnibw7rumTi4sNY0PXdG8A2WpaNqtlcQxXFlqOmXdreWlyqPG6lRkA9e8Q/sofst+K/jLof7RHif9mv4B+JP2gvDZsP8AhHfjrr/wd+Her/GLw9/ZMM9vpR0T4m6h4bu/G2k/2Xb3M9tp/wBh1+0+x209wtlsVipAO7tvhB8J7L4n6l8bbL4YfDu0+M2teF7DwLrHxdtvBHhyD4oax4J0y9F/YeENU8fwaavivUfC1nqB+2WegXWrNpFpd7rxLPfyQD0ugAoA/IH/AIL7/wDKG3/goT/2b/rH/p80GgD79/ZP/wCTWP2av+yBfBv/ANV74coA+gaACgAoAKACgAoAKAMpdM01NUudYi0+xXVrqys9NutUSzhXUbnTbC4vryx0+4vyoubmwtbjVdSubK1Lm1tLm+1B4wr3VzvANWgAoAKACgAoAKACgAoAKACgAoAKACgAoAKACgAoAKACgD8jP+C7+katr3/BIX9vXQtE03UNa1nWvgjd6To+j6VaXOpapqup3/iTw7Z2GnaXY2yXV1e6he3M0VrZ2ltbNc3V3IiRjc4wAfEfwR/4OB/2Kfht8F/hH8O9b+E/7dtxrXgH4Z+AvBGsXOlfsV/Gq40u61Twt4V0nRb640ua60O0uZtPurqxnayNzaWd0bQBns7Q/KAD1H/iI/8A2FP+iP8A/BQD/wAQk+MP/wArqAD/AIiP/wBhT/oj/wDwUA/8Qk+MP/yuoAP+Ij/9hT/oj/8AwUA/8Qk+MP8A8rqAD/iI/wD2FP8Aoj//AAUA/wDEJPjD/wDK6gA/4iP/ANhT/oj/APwUA/8AEJPjD/8AK6gA/wCIj/8AYU/6I/8A8FAP/EJPjD/8rqAD/iI//YU/6I//AMFAP/EJPjD/APK6gA/4iP8A9hT/AKI//wAFAP8AxCT4w/8AyuoAP+Ij/wDYU/6I/wD8FAP/ABCT4w//ACuoAP8AiI//AGFP+iP/APBQD/xCT4w//K6gA/4iP/2FP+iP/wDBQD/xCT4w/wDyuoAP+Ij/APYU/wCiP/8ABQD/AMQk+MP/AMrqAD/iI/8A2FP+iP8A/BQD/wAQk+MP/wArqAPgD/gqf/wWq/Zc/bB/4J4/tcfsz/CL4Qftun4l/GH4Qa94W8FReKv2OvjPomh3WvGex1axs77VYNEvTpw1P7B9lsbq5tPsX2y5tvt91Z2P2u8tAD+nz9k//k1j9mr/ALIF8G//AFXvhygD6BoAKACgAoAKACgAoAKACgAoAKACgAoAKACgAoAKACgAoAKACgAoAKACgAoAKACgAoAKACgAoAKACgAoAKACgAoAKACgAoAKACgAoAKACgAoAKACgAoAKACgAoAKACgAoAKACgAoAKACgAoAKACgAoAKACgAoAKACgAoAKACgAoAKACgAoAKACgAoAKACgAoAKACgAoAKACgAoAKACgAoAKACgAoAKACgAoAKACgAoAKACgAoAKACgAoAKACgAoAKACgAoAKACgAoAKACgAoA/Jv40/8FP2+D/8AwVQ/Zb/4Jmn4HnxE37Snwn8UfE4/Gz/hZR0f/hDD4bh8YzHQf+FcjwBqv/CQi7HhT/kJj4gaIbQX+RYXRtcXYB+r00nkwyy43eWkj7B/FjJ/z9aAP429A/4OjP20fifrvxHt/wBnn/ggp+0/+0f4N+HPxH8WfDa/+IHwY+KHxV+IHhubXfCmpz2NxbXl74I/Yp8V6bo+rXNubbU30O51a6u7O1vLYkuhW6cA/Xr9h/8A4KWftu/tffs7ftN/Fbxl/wAEnPjH+yj8X/gpb27/AAn+Av7QHjv4heBJ/wBoe6n0G/1uaz8O+NfHH7L/AIIuPD5FzYJoa3dn4K8ZWg1a+tEvmsgSQAcD8IP+C/v7L/j3/gmX8WP+Ch3j7w/c/CXXfgLqGu+BPjF+zPqvi201Tx74T+OljeT6f4c+D0GtXGieHbjUr/xrqH2EaLr114R0YrZTane3uiKfD2rWiAH6Af8ABOP9qv4t/tt/slfDX9p34t/s2t+yvffFi0m8SeDvhbefEuf4oa5/wgVwwPhbxXrmrXHw2+GLaPceKLbOq2Ognw9dta6PNpl898WvTa2gB8df8FTf+CoP7XP7AXjn4WeFf2c/+CU37Rn/AAUM0Px34O17xN4p8b/BW7+JdrpHw3v9J1dbC38N683gb9nH412Yv9Tsc6rbHUtW0W5FrEcWN0o+10Afkn+zD/wdA/tnftWeIPCqfCv/AIIMftO+Mfh3qnxN0v4ZeLPi18PPid8VfiP4N+H2oTa1pWl+KJfEmreHf2KjolvfeDLW/wD7T1zSdT1/R7m0tYCuoXVgrG7AB/Y/QAUAFAH5I2X/AAVI+2f8FhtZ/wCCTx+Bvlf2V+zbF+0J/wAL8PxO8z7T5w0rHg8fCwfD8GDB1TnXz8RDkwY/sTDDAB+t1ABQAUAFABQAUAFABQAUAFABQAUAFABQAUAFABQAUAFABQAUAFABQAUAFABQAUAFABQAUAFABQB/J9+2t/ytRf8ABLf/ALNS+KH/AKJ+LdAH9Wt5/wAeV3/17y/+iaAP857/AIJF/AH/AIL7/FHwL+1fr3/BLv8Abc/Zg/Zw+A9t+2j8btM8R+C/jN4S8Oa54jv/AIhQ6lbz6pr1le6x+yJ8ebkaTc6TPpFqluPFlltura5J0S0J+13gB/aX/wAEzPhv/wAFKPhb8CvEWif8FRv2gvhD+0b8eJvH+p6l4e8a/BrRtH0Lwxp3w5m0zSYdL0K9t9H+CfwHtzqVpq8GsXd3O3hG9JtJ7Yf2zdqDa2YB/n2f8FJPEf7IvxV/4LQ/Fv8AaQ8FfB/4p+LP+CZHwo/aZ+A+k/8ABQDxP8OtRnk+DnjL4xxanq2hav4xFhb2/wDYf9n3WrjVbO9tib278SGHxdfabeaO3jiza6AP9QTwHrng7xL4J8IeIvh7e6PqngLW/DOh6p4K1Lw9JDLoN54XvtNgn0K40U2mLUac+mS25shb/L9l2KAMAUAbut/8gfVf+wbf/wDpHPQB/IR/wb9fF7V/2f8A/gi5/wAFBPjh4d0s6z4g+En7Qn7aXxD0TSnTzItQ1nwr4T0rW9LhuIf+fX7VZW7Xg4/0QXB6jNAHzh+yv/wTO+Hf7Zf/AASL8U/8FYPjr8bvj34j/wCCk/jb4Y/G39ofwX+1np3x8+Leh6x8EtY8D6l4s1Xwr4K8DeFtA8aaV4I0/wAI6WfCkFrf6TcaBdfY/tF1ZaFe6OtpYrZgFH9pH/gqV+178ff+CJf/AASgt4viR4v+E3xa/wCChX7SHhP9k/45ftCeFLo+E/F9t4R0Pxjf+CPEfivQ9asLZf8AhH9X8fwW1lqt7qmmCyZrSDXRYD7FeEEA9R/4KFfsrfDX/ggR8VP+Cc/7TH/BOzWfi38P5PjH+1p4O/Zz/ab+Feu/GP4k/Ebwn+0z4b8c6bPe6r4p8beHvH/iTxFpn/CdqdJvzZapoFro1nYaxrdrfafZWTWq5APf9Cbd/wAHhni1sMu7/gmza/K/H/LDwrwPX69zQB/WxQAUAFABQAUAFABQAUAFABQAUAFABQAUAFABQAUAFABQAUAFABQAUAFABQAUAFABQAUAFABQAUAfzs/8FXP+CGXxT/4KJ/tY/B39rn4Mf8FDPiD+w38RPg58LLn4Z6Dqvwu+GPiLXPGoN9rOu6pfazpXxF8LfH74Oa74eW7sdcn0q90y0t7v7VZi533jLdtaqAYX7Cv/AARU/b3/AGUP2mvAXxw+NH/BdD9r79sL4d+E4fEcOu/s/wDxQsvjRH4K8Z/254f1TQ7GbVT4p/a8+JuhD+wtQv4NesvtfgrVx9tsbcKbM/6WoB8MaB/wa5/to/DDXfiPcfs8/wDBev8Aaf8A2cPBvxG+I/iz4k3/AMP/AIMfC/4q/D/w3DrvivU5764ubyy8EftreFNN1jVra3Ftpj65c6Ta3d5a2dsCEQLaoAfpP+zf/wAEkf29PgL+yr+1r8A/E/8AwWa+Ovx/+JX7SOk6D4d8D/H/AONvw5+IfxF1j9nvRobTVdK8YDwF4W8c/tV+LjPrXirTtVNvaapZ+LPDa6Jd29tqDWOsXtpZGzAPoX9jb/gjT+y/+yh/wTm13/gnRrNnafGDwP8AFDQfFNr8f/HWseHYvDus/F3xb4xhFvqfjGbTP7U8Q3Hh+40oW2mf8IbZ/wDCQayfDI0XS2sr65vEa8YA9Q/4JZfsJfE3/gnL+zLZ/sseMf2oLn9p7wH4H8Sao/wT1nW/hY3w48U/Dv4cX8/22y+HGuXsPxG8c2njGDQ76a4bRtVtrPwiLOzuW06PRl0+2srWyAP0ivbYXdndWu4R/area237d+zz4jCfrjPP9KAPys/4Jh/8EvtE/wCCd/7MPxa/Zi8SfFGz/aL8O/F34ufFX4l6/f6h8NR8OrB9G+KlpY2Gp+Cb3w4fG/xA/tC2gsbWe1utUOrWa3y3pA0ezxhgD8+x/wAG9XxB8HeAvG/7JvwF/wCCov7R/wAGP+CbXxO1zxHqXjn9jiz+Ffwo8X+IodG8Yaib7xV4I+H37SniDb478AeDdWZr22vNDt/D2sre2t5cjXH1e8u9Qu74A/RX9ov/AIJB/sf/ALRX7CvgH9gC78PeIvhr8JvgxZ+EpfgV4o+Her/2X8RfhB4u8DwTxeG/HfhXxHfQXwn8UCa4vbjXLrVbW8GuHVdTN7tu7tby2APlf4Xf8EVviV4l+PnwJ+Of/BQ//goZ8Wf+ChUH7J+sDX/2Yvhn4n+Dnwy+B/gLwN4jghsYdL8Y/ECx8AXOq3Pxf8c6ULCyuLPxR4gurG9ub22W91AXuTa0AfRFl/wS4+x/8FhtZ/4Kwn44+Z/av7NkX7Pf/Cg/+FZeWbfyRpQHjD/haf8AwsA+fk6WM6Afh2Med/yGsAUAfrdQAUAFABQAUAFABQAUAFABQAUAFABQAUAFABQAUAFABQAUAFABQAUAFABQAUAFABQAUAFABQAUAFABQAUAFABQAUAFABQAUAFABQAUAFABQAUAFABQAUAFABQAUAFABQAUAFAH/9k=)"
      ],
      "metadata": {
        "id": "dmdBA0E8KBvZ"
      }
    },
    {
      "cell_type": "markdown",
      "source": [
        "## Code Snippet"
      ],
      "metadata": {
        "id": "g1JggQz6Klu-"
      }
    },
    {
      "cell_type": "code",
      "source": [
        "/*Lex code to count total number of tokens */\n",
        "\n",
        "%{\n",
        "int n = 0 ;\n",
        "%}\n",
        "\n",
        "// rule section\n",
        "%%\n",
        "\n",
        "//count number of keywords\n",
        "\"while\"|\"if\"|\"else\" {n++;printf(\"\\t keywords : %s\", yytext);}\n",
        "\n",
        "// count number of keywords\n",
        "\"int\"|\"float\" {n++;printf(\"\\t keywords : %s\", yytext);}\n",
        "\n",
        "// count number of identifiers\n",
        "[a-zA-Z_][a-zA-Z0-9_]* {n++;printf(\"\\t identifier : %s\", yytext);}\n",
        "\n",
        "// count number of operators\n",
        "\"<=\"|\"==\"|\"=\"|\"++\"|\"-\"|\"*\"|\"+\" {n++;printf(\"\\t operator : %s\", yytext);}\n",
        "\n",
        "// count number of separators\n",
        "[(){}|, ;] {n++;printf(\"\\t separator : %s\", yytext);}\n",
        "\n",
        "// count number of floats\n",
        "[0-9]*\".\"[0-9]+ {n++;printf(\"\\t float : %s\", yytext);}\n",
        "\n",
        "// count number of integers\n",
        "[0-9]+ {n++;printf(\"\\t integer : %s\", yytext);}\t\t\t\t\t\t\n",
        "\n",
        ". ;\n",
        "%%\n",
        "\n",
        "\n",
        "int main()\n",
        "\n",
        "{\n",
        "\t\n",
        "\tyylex();\n",
        "\t\n",
        "\tprintf(\"\\n total no. of token = %d\\n\", n);\n",
        "\t\n",
        "}\n"
      ],
      "metadata": {
        "id": "ro-I1Uywwb-X"
      },
      "execution_count": null,
      "outputs": []
    },
    {
      "cell_type": "markdown",
      "source": [
        "# Yacc"
      ],
      "metadata": {
        "id": "tGzHnAm7Kr89"
      }
    },
    {
      "cell_type": "markdown",
      "source": [
        "## Definition"
      ],
      "metadata": {
        "id": "cmLtDDA1LlR9"
      }
    },
    {
      "cell_type": "markdown",
      "source": [
        "* YACC stands for Yet Another Compiler Compiler.YACC provides a tool to produce a parser for a given grammar.\n",
        "* YACC is a program designed to compile a LALR (1) grammar. It is used to produce the source code of the syntactic analyzer of the language produced by LALR (1) grammar.\n",
        "* The input of YACC is the rule or grammar and the output is a C program."
      ],
      "metadata": {
        "id": "8B1pYKYXLnxt"
      }
    },
    {
      "cell_type": "markdown",
      "source": [
        "## Diagram\n",
        "\n",
        "\n",
        "\n",
        "![yaac.png](data:image/png;base64,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)"
      ],
      "metadata": {
        "id": "kw2SqBgKMAhF"
      }
    },
    {
      "cell_type": "markdown",
      "source": [
        "## Code Snippet"
      ],
      "metadata": {
        "id": "jMsqJY4_MlRO"
      }
    },
    {
      "cell_type": "code",
      "source": [
        "%{\n",
        "#include <ctype.h>\n",
        "#include <stdio.h>\n",
        "#define YYSTYPE double /* double type for yacc stack */\n",
        "%}\n",
        "\n",
        "%%\n",
        "Lines : Lines S '\\n' { printf(\"OK \\n\"); }\n",
        "\t| S '\\n’\n",
        "\t| error '\\n' {yyerror(\"Error: reenter last line:\");\n",
        "\t\t\t\t\t\tyyerrok; };\n",
        "S\t : '(' S ')’\n",
        "\t| '[' S ']’\n",
        "\t| /* empty */ ;\n",
        "%%\n",
        "\n",
        "#include \"lex.yy.c\"\n",
        "\n",
        "void yyerror(char * s)\n",
        "/* yacc error handler */\n",
        "{\n",
        "fprintf (stderr, \"%s\\n\", s);\n",
        "}\n",
        "\n",
        "int main(void)\n",
        "{\n",
        "return yyparse();\n",
        "}\n"
      ],
      "metadata": {
        "id": "s6iTc5EwKvp5"
      },
      "execution_count": null,
      "outputs": []
    },
    {
      "cell_type": "code",
      "source": [
        "%{\n",
        "%}\n",
        "\n",
        "%%\n",
        "[ \\t]\t { /* skip blanks and tabs */ }\n",
        "\\n|.\t { return yytext[0]; }\n",
        "%%\n"
      ],
      "metadata": {
        "id": "oO9b8eQSMrH2"
      },
      "execution_count": null,
      "outputs": []
    },
    {
      "cell_type": "markdown",
      "source": [
        "## Compiling Yaac program\n",
        "Write lex program in a file file.l and yacc in a file file.y \n",
        " \n",
        "Open Terminal and Navigate to the Directory where you have saved the files. \n",
        " \n",
        "type lex file.l \n",
        " \n",
        "type yacc file.y \n",
        " \n",
        "type cc lex.yy.c y.tab.h -ll \n",
        " \n",
        "type ./a.out "
      ],
      "metadata": {
        "id": "gxQXtFJuMuMd"
      }
    }
  ]
}